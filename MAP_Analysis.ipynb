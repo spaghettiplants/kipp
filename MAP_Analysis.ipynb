{
 "cells": [
  {
   "cell_type": "markdown",
   "id": "6aaa4811",
   "metadata": {
    "hide_input": true
   },
   "source": [
    "# Imports and Datasets"
   ]
  },
  {
   "cell_type": "code",
   "execution_count": 1,
   "id": "113e9d38",
   "metadata": {
    "ExecuteTime": {
     "end_time": "2022-11-27T00:52:08.480755Z",
     "start_time": "2022-11-27T00:51:49.837051Z"
    }
   },
   "outputs": [],
   "source": [
    "import pandas as pd\n",
    "import matplotlib.pyplot as plt\n",
    "import seaborn as sns\n",
    "pd.options.mode.chained_assignment = None\n",
    "\n",
    "# grab datasets from gsheets published csv links\n",
    "enrollment_df = pd.read_csv('https://docs.google.com/spreadsheets/d/e/2PACX-1vRBK-Yn_jHrMG7wq9o62CF1eS1lg14UiZK9YXsPY4tGy5WduHndXpu87KC-fNNRwc7j4SnQqeaA9up6/pub?gid=0&single=true&output=csv')\n",
    "scores_df = pd.read_csv('https://docs.google.com/spreadsheets/d/e/2PACX-1vRBK-Yn_jHrMG7wq9o62CF1eS1lg14UiZK9YXsPY4tGy5WduHndXpu87KC-fNNRwc7j4SnQqeaA9up6/pub?gid=699383085&single=true&output=csv')\n",
    "sped_df = pd.read_csv('https://docs.google.com/spreadsheets/d/e/2PACX-1vRBK-Yn_jHrMG7wq9o62CF1eS1lg14UiZK9YXsPY4tGy5WduHndXpu87KC-fNNRwc7j4SnQqeaA9up6/pub?gid=1606508648&single=true&output=csv')\n"
   ]
  },
  {
   "cell_type": "markdown",
   "id": "d07e4395",
   "metadata": {},
   "source": [
    "## Enrollment File"
   ]
  },
  {
   "cell_type": "code",
   "execution_count": 2,
   "id": "4260f67e",
   "metadata": {
    "ExecuteTime": {
     "end_time": "2022-11-27T00:52:08.514767Z",
     "start_time": "2022-11-27T00:52:08.486571Z"
    },
    "cell_style": "split",
    "collapsed": true,
    "hide_input": true
   },
   "outputs": [
    {
     "data": {
      "text/html": [
       "<div>\n",
       "<style scoped>\n",
       "    .dataframe tbody tr th:only-of-type {\n",
       "        vertical-align: middle;\n",
       "    }\n",
       "\n",
       "    .dataframe tbody tr th {\n",
       "        vertical-align: top;\n",
       "    }\n",
       "\n",
       "    .dataframe thead th {\n",
       "        text-align: right;\n",
       "    }\n",
       "</style>\n",
       "<table border=\"1\" class=\"dataframe\">\n",
       "  <thead>\n",
       "    <tr style=\"text-align: right;\">\n",
       "      <th></th>\n",
       "      <th>student_id</th>\n",
       "      <th>school_name</th>\n",
       "      <th>grade_level_2019</th>\n",
       "    </tr>\n",
       "  </thead>\n",
       "  <tbody>\n",
       "    <tr>\n",
       "      <th>0</th>\n",
       "      <td>13898</td>\n",
       "      <td>School G</td>\n",
       "      <td>1</td>\n",
       "    </tr>\n",
       "    <tr>\n",
       "      <th>1</th>\n",
       "      <td>27795</td>\n",
       "      <td>School G</td>\n",
       "      <td>1</td>\n",
       "    </tr>\n",
       "    <tr>\n",
       "      <th>2</th>\n",
       "      <td>22938</td>\n",
       "      <td>School E</td>\n",
       "      <td>1</td>\n",
       "    </tr>\n",
       "    <tr>\n",
       "      <th>3</th>\n",
       "      <td>22431</td>\n",
       "      <td>School F</td>\n",
       "      <td>1</td>\n",
       "    </tr>\n",
       "    <tr>\n",
       "      <th>4</th>\n",
       "      <td>18048</td>\n",
       "      <td>School E</td>\n",
       "      <td>1</td>\n",
       "    </tr>\n",
       "    <tr>\n",
       "      <th>...</th>\n",
       "      <td>...</td>\n",
       "      <td>...</td>\n",
       "      <td>...</td>\n",
       "    </tr>\n",
       "    <tr>\n",
       "      <th>2783</th>\n",
       "      <td>28744</td>\n",
       "      <td>School D</td>\n",
       "      <td>7</td>\n",
       "    </tr>\n",
       "    <tr>\n",
       "      <th>2784</th>\n",
       "      <td>12169</td>\n",
       "      <td>School A</td>\n",
       "      <td>7</td>\n",
       "    </tr>\n",
       "    <tr>\n",
       "      <th>2785</th>\n",
       "      <td>24197</td>\n",
       "      <td>School D</td>\n",
       "      <td>8</td>\n",
       "    </tr>\n",
       "    <tr>\n",
       "      <th>2786</th>\n",
       "      <td>27656</td>\n",
       "      <td>School D</td>\n",
       "      <td>8</td>\n",
       "    </tr>\n",
       "    <tr>\n",
       "      <th>2787</th>\n",
       "      <td>29777</td>\n",
       "      <td>School E</td>\n",
       "      <td>0</td>\n",
       "    </tr>\n",
       "  </tbody>\n",
       "</table>\n",
       "<p>2788 rows × 3 columns</p>\n",
       "</div>"
      ],
      "text/plain": [
       "      student_id school_name  grade_level_2019\n",
       "0          13898    School G                 1\n",
       "1          27795    School G                 1\n",
       "2          22938    School E                 1\n",
       "3          22431    School F                 1\n",
       "4          18048    School E                 1\n",
       "...          ...         ...               ...\n",
       "2783       28744    School D                 7\n",
       "2784       12169    School A                 7\n",
       "2785       24197    School D                 8\n",
       "2786       27656    School D                 8\n",
       "2787       29777    School E                 0\n",
       "\n",
       "[2788 rows x 3 columns]"
      ]
     },
     "execution_count": 2,
     "metadata": {},
     "output_type": "execute_result"
    }
   ],
   "source": [
    "enrollment_df"
   ]
  },
  {
   "cell_type": "code",
   "execution_count": 3,
   "id": "45e2c54b",
   "metadata": {
    "ExecuteTime": {
     "end_time": "2022-11-27T00:52:08.522164Z",
     "start_time": "2022-11-27T00:52:08.515873Z"
    },
    "cell_style": "split",
    "collapsed": true,
    "hide_input": false
   },
   "outputs": [
    {
     "name": "stdout",
     "output_type": "stream",
     "text": [
      "<class 'pandas.core.frame.DataFrame'>\n",
      "RangeIndex: 2788 entries, 0 to 2787\n",
      "Data columns (total 3 columns):\n",
      " #   Column            Non-Null Count  Dtype \n",
      "---  ------            --------------  ----- \n",
      " 0   student_id        2788 non-null   int64 \n",
      " 1   school_name       2788 non-null   object\n",
      " 2   grade_level_2019  2788 non-null   int64 \n",
      "dtypes: int64(2), object(1)\n",
      "memory usage: 65.5+ KB\n"
     ]
    }
   ],
   "source": [
    "enrollment_df.info()"
   ]
  },
  {
   "cell_type": "code",
   "execution_count": 4,
   "id": "b4bf4ecb",
   "metadata": {
    "ExecuteTime": {
     "end_time": "2022-11-27T00:52:08.534375Z",
     "start_time": "2022-11-27T00:52:08.523253Z"
    },
    "cell_style": "split"
   },
   "outputs": [
    {
     "data": {
      "text/html": [
       "<div>\n",
       "<style scoped>\n",
       "    .dataframe tbody tr th:only-of-type {\n",
       "        vertical-align: middle;\n",
       "    }\n",
       "\n",
       "    .dataframe tbody tr th {\n",
       "        vertical-align: top;\n",
       "    }\n",
       "\n",
       "    .dataframe thead th {\n",
       "        text-align: right;\n",
       "    }\n",
       "</style>\n",
       "<table border=\"1\" class=\"dataframe\">\n",
       "  <thead>\n",
       "    <tr style=\"text-align: right;\">\n",
       "      <th></th>\n",
       "      <th>student_id</th>\n",
       "      <th>grade_level_2019</th>\n",
       "    </tr>\n",
       "  </thead>\n",
       "  <tbody>\n",
       "    <tr>\n",
       "      <th>count</th>\n",
       "      <td>2788.000000</td>\n",
       "      <td>2788.000000</td>\n",
       "    </tr>\n",
       "    <tr>\n",
       "      <th>mean</th>\n",
       "      <td>19930.984935</td>\n",
       "      <td>4.233142</td>\n",
       "    </tr>\n",
       "    <tr>\n",
       "      <th>std</th>\n",
       "      <td>5734.957900</td>\n",
       "      <td>2.716113</td>\n",
       "    </tr>\n",
       "    <tr>\n",
       "      <th>min</th>\n",
       "      <td>10000.000000</td>\n",
       "      <td>0.000000</td>\n",
       "    </tr>\n",
       "    <tr>\n",
       "      <th>25%</th>\n",
       "      <td>14987.750000</td>\n",
       "      <td>2.000000</td>\n",
       "    </tr>\n",
       "    <tr>\n",
       "      <th>50%</th>\n",
       "      <td>19860.500000</td>\n",
       "      <td>5.000000</td>\n",
       "    </tr>\n",
       "    <tr>\n",
       "      <th>75%</th>\n",
       "      <td>24875.500000</td>\n",
       "      <td>7.000000</td>\n",
       "    </tr>\n",
       "    <tr>\n",
       "      <th>max</th>\n",
       "      <td>29996.000000</td>\n",
       "      <td>8.000000</td>\n",
       "    </tr>\n",
       "  </tbody>\n",
       "</table>\n",
       "</div>"
      ],
      "text/plain": [
       "         student_id  grade_level_2019\n",
       "count   2788.000000       2788.000000\n",
       "mean   19930.984935          4.233142\n",
       "std     5734.957900          2.716113\n",
       "min    10000.000000          0.000000\n",
       "25%    14987.750000          2.000000\n",
       "50%    19860.500000          5.000000\n",
       "75%    24875.500000          7.000000\n",
       "max    29996.000000          8.000000"
      ]
     },
     "execution_count": 4,
     "metadata": {},
     "output_type": "execute_result"
    }
   ],
   "source": [
    "# checking to make sure there isn't anything ~wild~\n",
    "enrollment_df.describe()"
   ]
  },
  {
   "cell_type": "code",
   "execution_count": 6,
   "id": "a92e894c",
   "metadata": {
    "ExecuteTime": {
     "end_time": "2022-11-27T00:52:08.545134Z",
     "start_time": "2022-11-27T00:52:08.540835Z"
    },
    "cell_style": "split"
   },
   "outputs": [
    {
     "data": {
      "text/plain": [
       "11220    2\n",
       "13898    1\n",
       "20677    1\n",
       "24413    1\n",
       "14048    1\n",
       "        ..\n",
       "19869    1\n",
       "12023    1\n",
       "23404    1\n",
       "24192    1\n",
       "29777    1\n",
       "Name: student_id, Length: 2787, dtype: int64"
      ]
     },
     "execution_count": 6,
     "metadata": {},
     "output_type": "execute_result"
    }
   ],
   "source": [
    "# check for duplicate enrollments\n",
    "enrollment_df.student_id.value_counts()"
   ]
  },
  {
   "cell_type": "code",
   "execution_count": 7,
   "id": "62b1af51",
   "metadata": {
    "ExecuteTime": {
     "end_time": "2022-11-27T00:52:08.551294Z",
     "start_time": "2022-11-27T00:52:08.546411Z"
    },
    "cell_style": "split"
   },
   "outputs": [
    {
     "data": {
      "text/html": [
       "<div>\n",
       "<style scoped>\n",
       "    .dataframe tbody tr th:only-of-type {\n",
       "        vertical-align: middle;\n",
       "    }\n",
       "\n",
       "    .dataframe tbody tr th {\n",
       "        vertical-align: top;\n",
       "    }\n",
       "\n",
       "    .dataframe thead th {\n",
       "        text-align: right;\n",
       "    }\n",
       "</style>\n",
       "<table border=\"1\" class=\"dataframe\">\n",
       "  <thead>\n",
       "    <tr style=\"text-align: right;\">\n",
       "      <th></th>\n",
       "      <th>student_id</th>\n",
       "      <th>school_name</th>\n",
       "      <th>grade_level_2019</th>\n",
       "    </tr>\n",
       "  </thead>\n",
       "  <tbody>\n",
       "    <tr>\n",
       "      <th>1708</th>\n",
       "      <td>11220</td>\n",
       "      <td>School D</td>\n",
       "      <td>6</td>\n",
       "    </tr>\n",
       "    <tr>\n",
       "      <th>2780</th>\n",
       "      <td>11220</td>\n",
       "      <td>School D</td>\n",
       "      <td>5</td>\n",
       "    </tr>\n",
       "  </tbody>\n",
       "</table>\n",
       "</div>"
      ],
      "text/plain": [
       "      student_id school_name  grade_level_2019\n",
       "1708       11220    School D                 6\n",
       "2780       11220    School D                 5"
      ]
     },
     "execution_count": 7,
     "metadata": {},
     "output_type": "execute_result"
    }
   ],
   "source": [
    "# duplicate student\n",
    "# scores file doesn't provide\n",
    "# any grade level info, so we'll assume 6\n",
    "# maybe they got moved up?\n",
    "enrollment_df.loc[enrollment_df.student_id == 11220]"
   ]
  },
  {
   "cell_type": "code",
   "execution_count": 8,
   "id": "99b7ee24",
   "metadata": {
    "ExecuteTime": {
     "end_time": "2022-11-27T00:52:08.556033Z",
     "start_time": "2022-11-27T00:52:08.552476Z"
    },
    "cell_style": "split",
    "hide_input": true
   },
   "outputs": [],
   "source": [
    "# eliminate duplicate and keep first entry\n",
    "enrollment_df = enrollment_df.drop_duplicates(subset='student_id',\n",
    "                                              keep = 'first')"
   ]
  },
  {
   "cell_type": "code",
   "execution_count": 9,
   "id": "2d23f893",
   "metadata": {
    "ExecuteTime": {
     "end_time": "2022-11-27T00:52:08.560777Z",
     "start_time": "2022-11-27T00:52:08.556850Z"
    },
    "cell_style": "split"
   },
   "outputs": [
    {
     "data": {
      "text/plain": [
       "grade_level_2019\n",
       "0    318\n",
       "1    320\n",
       "2    320\n",
       "3    225\n",
       "4    116\n",
       "5    347\n",
       "6    395\n",
       "7    375\n",
       "8    371\n",
       "Name: student_id, dtype: int64"
      ]
     },
     "execution_count": 9,
     "metadata": {},
     "output_type": "execute_result"
    }
   ],
   "source": [
    "enrollment_df.groupby('grade_level_2019').student_id.count()"
   ]
  },
  {
   "cell_type": "markdown",
   "id": "a18c7820",
   "metadata": {},
   "source": [
    "Assuming grade level of '0' is Kindergarten."
   ]
  },
  {
   "cell_type": "code",
   "execution_count": 10,
   "id": "6dbfcde2",
   "metadata": {
    "ExecuteTime": {
     "end_time": "2022-11-27T00:52:08.565907Z",
     "start_time": "2022-11-27T00:52:08.561606Z"
    },
    "cell_style": "center"
   },
   "outputs": [
    {
     "data": {
      "text/plain": [
       "school_name\n",
       "School A    371\n",
       "School B    357\n",
       "School C    360\n",
       "School D    400\n",
       "School E    539\n",
       "School F    431\n",
       "School G    329\n",
       "Name: student_id, dtype: int64"
      ]
     },
     "execution_count": 10,
     "metadata": {},
     "output_type": "execute_result"
    }
   ],
   "source": [
    "# check out student population count\n",
    "enrollment_df.groupby('school_name').student_id.count()"
   ]
  },
  {
   "cell_type": "code",
   "execution_count": 11,
   "id": "ba55d0dd",
   "metadata": {
    "ExecuteTime": {
     "end_time": "2022-11-27T00:52:08.571667Z",
     "start_time": "2022-11-27T00:52:08.566914Z"
    }
   },
   "outputs": [],
   "source": [
    "grouped_by_grade_df = pd.DataFrame(enrollment_df.groupby('grade_level_2019').student_id.nunique()).reset_index()\n",
    "grouped_by_grade_df.loc[grouped_by_grade_df.grade_level_2019 == 0, 'grade_level_2019'] = 'K'"
   ]
  },
  {
   "cell_type": "code",
   "execution_count": 12,
   "id": "4be4b00a",
   "metadata": {
    "ExecuteTime": {
     "end_time": "2022-11-27T00:52:08.800021Z",
     "start_time": "2022-11-27T00:52:08.572974Z"
    }
   },
   "outputs": [
    {
     "data": {
      "image/png": "[encoded data removed]",
      "text/plain": [
       "<Figure size 720x360 with 1 Axes>"
      ]
     },
     "metadata": {
      "needs_background": "light"
     },
     "output_type": "display_data"
    }
   ],
   "source": [
    "# enrollment by grade level\n",
    "plt.figure(figsize=(10,5))\n",
    "\n",
    "ax = sns.barplot(x='grade_level_2019',\n",
    "                 y='student_id',\n",
    "                 data=grouped_by_grade_df,\n",
    "                 palette='icefire')\n",
    "sns.despine()\n",
    "\n",
    "ax.bar_label(ax.containers[0])\n",
    "\n",
    "plt.xlabel('Grade Level', labelpad=15)\n",
    "plt.ylabel('Count of Students', labelpad=15)\n",
    "\n",
    "plt.title('Student Enrollment Count\\nby Grade Level',\n",
    "          weight='bold',\n",
    "          size=15,\n",
    "          loc='right')\n",
    "plt.show()"
   ]
  },
  {
   "cell_type": "code",
   "execution_count": 13,
   "id": "136912eb",
   "metadata": {
    "ExecuteTime": {
     "end_time": "2022-11-27T00:52:08.964155Z",
     "start_time": "2022-11-27T00:52:08.801217Z"
    },
    "cell_style": "center",
    "scrolled": true
   },
   "outputs": [
    {
     "data": {
      "image/png": "[encoded data removed]",
      "text/plain": [
       "<Figure size 432x288 with 1 Axes>"
      ]
     },
     "metadata": {
      "needs_background": "light"
     },
     "output_type": "display_data"
    }
   ],
   "source": [
    "# count by grade levels\n",
    "enrollment_df.grade_level_2019.value_counts().sort_index().plot.bar()\n",
    "plt.title('Student Count by Grade Levels')\n",
    "plt.show()"
   ]
  },
  {
   "cell_type": "code",
   "execution_count": 14,
   "id": "f94e915e",
   "metadata": {
    "ExecuteTime": {
     "end_time": "2022-11-27T00:52:09.034540Z",
     "start_time": "2022-11-27T00:52:08.965422Z"
    },
    "cell_style": "center"
   },
   "outputs": [
    {
     "data": {
      "image/png": "[encoded data removed]",
      "text/plain": [
       "<Figure size 432x288 with 1 Axes>"
      ]
     },
     "metadata": {
      "needs_background": "light"
     },
     "output_type": "display_data"
    }
   ],
   "source": [
    "# count by schools\n",
    "enrollment_df.school_name.value_counts().sort_index().plot.bar()\n",
    "plt.title('Student Count by Schools')\n",
    "plt.show()"
   ]
  },
  {
   "cell_type": "markdown",
   "id": "ef32aec1",
   "metadata": {},
   "source": [
    "## Scores"
   ]
  },
  {
   "cell_type": "code",
   "execution_count": 15,
   "id": "1c1a5283",
   "metadata": {
    "ExecuteTime": {
     "end_time": "2022-11-27T00:52:09.055202Z",
     "start_time": "2022-11-27T00:52:09.046839Z"
    },
    "cell_style": "split"
   },
   "outputs": [
    {
     "data": {
      "text/html": [
       "<div>\n",
       "<style scoped>\n",
       "    .dataframe tbody tr th:only-of-type {\n",
       "        vertical-align: middle;\n",
       "    }\n",
       "\n",
       "    .dataframe tbody tr th {\n",
       "        vertical-align: top;\n",
       "    }\n",
       "\n",
       "    .dataframe thead th {\n",
       "        text-align: right;\n",
       "    }\n",
       "</style>\n",
       "<table border=\"1\" class=\"dataframe\">\n",
       "  <thead>\n",
       "    <tr style=\"text-align: right;\">\n",
       "      <th></th>\n",
       "      <th>student_id</th>\n",
       "      <th>year</th>\n",
       "      <th>map_term</th>\n",
       "      <th>subject</th>\n",
       "      <th>rit_score</th>\n",
       "      <th>percentile</th>\n",
       "      <th>quartile</th>\n",
       "      <th>typical_fall_to_spring_growth</th>\n",
       "    </tr>\n",
       "  </thead>\n",
       "  <tbody>\n",
       "    <tr>\n",
       "      <th>0</th>\n",
       "      <td>13898</td>\n",
       "      <td>2019</td>\n",
       "      <td>Fall</td>\n",
       "      <td>Reading</td>\n",
       "      <td>161</td>\n",
       "      <td>59</td>\n",
       "      <td>3</td>\n",
       "      <td>18</td>\n",
       "    </tr>\n",
       "    <tr>\n",
       "      <th>1</th>\n",
       "      <td>27795</td>\n",
       "      <td>2019</td>\n",
       "      <td>Fall</td>\n",
       "      <td>Reading</td>\n",
       "      <td>158</td>\n",
       "      <td>50</td>\n",
       "      <td>3</td>\n",
       "      <td>19</td>\n",
       "    </tr>\n",
       "    <tr>\n",
       "      <th>2</th>\n",
       "      <td>22938</td>\n",
       "      <td>2019</td>\n",
       "      <td>Fall</td>\n",
       "      <td>Reading</td>\n",
       "      <td>162</td>\n",
       "      <td>62</td>\n",
       "      <td>3</td>\n",
       "      <td>18</td>\n",
       "    </tr>\n",
       "    <tr>\n",
       "      <th>3</th>\n",
       "      <td>22431</td>\n",
       "      <td>2019</td>\n",
       "      <td>Fall</td>\n",
       "      <td>Reading</td>\n",
       "      <td>162</td>\n",
       "      <td>62</td>\n",
       "      <td>3</td>\n",
       "      <td>18</td>\n",
       "    </tr>\n",
       "    <tr>\n",
       "      <th>4</th>\n",
       "      <td>18048</td>\n",
       "      <td>2019</td>\n",
       "      <td>Fall</td>\n",
       "      <td>Reading</td>\n",
       "      <td>166</td>\n",
       "      <td>73</td>\n",
       "      <td>3</td>\n",
       "      <td>17</td>\n",
       "    </tr>\n",
       "    <tr>\n",
       "      <th>...</th>\n",
       "      <td>...</td>\n",
       "      <td>...</td>\n",
       "      <td>...</td>\n",
       "      <td>...</td>\n",
       "      <td>...</td>\n",
       "      <td>...</td>\n",
       "      <td>...</td>\n",
       "      <td>...</td>\n",
       "    </tr>\n",
       "    <tr>\n",
       "      <th>11113</th>\n",
       "      <td>16492</td>\n",
       "      <td>2019</td>\n",
       "      <td>Spring</td>\n",
       "      <td>Math</td>\n",
       "      <td>181</td>\n",
       "      <td>94</td>\n",
       "      <td>4</td>\n",
       "      <td>.</td>\n",
       "    </tr>\n",
       "    <tr>\n",
       "      <th>11114</th>\n",
       "      <td>28883</td>\n",
       "      <td>2019</td>\n",
       "      <td>Spring</td>\n",
       "      <td>Math</td>\n",
       "      <td>166</td>\n",
       "      <td>69</td>\n",
       "      <td>3</td>\n",
       "      <td>.</td>\n",
       "    </tr>\n",
       "    <tr>\n",
       "      <th>11115</th>\n",
       "      <td>28277</td>\n",
       "      <td>2019</td>\n",
       "      <td>Spring</td>\n",
       "      <td>Math</td>\n",
       "      <td>155</td>\n",
       "      <td>38</td>\n",
       "      <td>2</td>\n",
       "      <td>.</td>\n",
       "    </tr>\n",
       "    <tr>\n",
       "      <th>11116</th>\n",
       "      <td>18061</td>\n",
       "      <td>2019</td>\n",
       "      <td>Spring</td>\n",
       "      <td>Math</td>\n",
       "      <td>146</td>\n",
       "      <td>17</td>\n",
       "      <td>1</td>\n",
       "      <td>.</td>\n",
       "    </tr>\n",
       "    <tr>\n",
       "      <th>11117</th>\n",
       "      <td>28926</td>\n",
       "      <td>2019</td>\n",
       "      <td>Spring</td>\n",
       "      <td>Math</td>\n",
       "      <td>161</td>\n",
       "      <td>55</td>\n",
       "      <td>3</td>\n",
       "      <td>.</td>\n",
       "    </tr>\n",
       "  </tbody>\n",
       "</table>\n",
       "<p>11118 rows × 8 columns</p>\n",
       "</div>"
      ],
      "text/plain": [
       "       student_id  year map_term  subject rit_score percentile quartile  \\\n",
       "0           13898  2019     Fall  Reading       161         59        3   \n",
       "1           27795  2019     Fall  Reading       158         50        3   \n",
       "2           22938  2019     Fall  Reading       162         62        3   \n",
       "3           22431  2019     Fall  Reading       162         62        3   \n",
       "4           18048  2019     Fall  Reading       166         73        3   \n",
       "...           ...   ...      ...      ...       ...        ...      ...   \n",
       "11113       16492  2019   Spring     Math       181         94        4   \n",
       "11114       28883  2019   Spring     Math       166         69        3   \n",
       "11115       28277  2019   Spring     Math       155         38        2   \n",
       "11116       18061  2019   Spring     Math       146         17        1   \n",
       "11117       28926  2019   Spring     Math       161         55        3   \n",
       "\n",
       "      typical_fall_to_spring_growth  \n",
       "0                                18  \n",
       "1                                19  \n",
       "2                                18  \n",
       "3                                18  \n",
       "4                                17  \n",
       "...                             ...  \n",
       "11113                             .  \n",
       "11114                             .  \n",
       "11115                             .  \n",
       "11116                             .  \n",
       "11117                             .  \n",
       "\n",
       "[11118 rows x 8 columns]"
      ]
     },
     "execution_count": 15,
     "metadata": {},
     "output_type": "execute_result"
    }
   ],
   "source": [
    "scores_df"
   ]
  },
  {
   "cell_type": "code",
   "execution_count": 16,
   "id": "500e05de",
   "metadata": {
    "ExecuteTime": {
     "end_time": "2022-11-27T00:52:09.066816Z",
     "start_time": "2022-11-27T00:52:09.056370Z"
    },
    "cell_style": "split"
   },
   "outputs": [
    {
     "name": "stdout",
     "output_type": "stream",
     "text": [
      "<class 'pandas.core.frame.DataFrame'>\n",
      "RangeIndex: 11118 entries, 0 to 11117\n",
      "Data columns (total 8 columns):\n",
      " #   Column                         Non-Null Count  Dtype \n",
      "---  ------                         --------------  ----- \n",
      " 0   student_id                     11118 non-null  int64 \n",
      " 1   year                           11118 non-null  int64 \n",
      " 2   map_term                       11118 non-null  object\n",
      " 3   subject                        11118 non-null  object\n",
      " 4   rit_score                      11118 non-null  object\n",
      " 5   percentile                     11118 non-null  object\n",
      " 6   quartile                       11118 non-null  object\n",
      " 7   typical_fall_to_spring_growth  11118 non-null  object\n",
      "dtypes: int64(2), object(6)\n",
      "memory usage: 695.0+ KB\n"
     ]
    }
   ],
   "source": [
    "scores_df.info()"
   ]
  },
  {
   "cell_type": "code",
   "execution_count": 17,
   "id": "e0bedc57",
   "metadata": {
    "ExecuteTime": {
     "end_time": "2022-11-27T00:52:09.076485Z",
     "start_time": "2022-11-27T00:52:09.067962Z"
    },
    "cell_style": "split"
   },
   "outputs": [
    {
     "data": {
      "text/html": [
       "<div>\n",
       "<style scoped>\n",
       "    .dataframe tbody tr th:only-of-type {\n",
       "        vertical-align: middle;\n",
       "    }\n",
       "\n",
       "    .dataframe tbody tr th {\n",
       "        vertical-align: top;\n",
       "    }\n",
       "\n",
       "    .dataframe thead th {\n",
       "        text-align: right;\n",
       "    }\n",
       "</style>\n",
       "<table border=\"1\" class=\"dataframe\">\n",
       "  <thead>\n",
       "    <tr style=\"text-align: right;\">\n",
       "      <th></th>\n",
       "      <th>student_id</th>\n",
       "      <th>year</th>\n",
       "    </tr>\n",
       "  </thead>\n",
       "  <tbody>\n",
       "    <tr>\n",
       "      <th>count</th>\n",
       "      <td>11118.000000</td>\n",
       "      <td>11118.0</td>\n",
       "    </tr>\n",
       "    <tr>\n",
       "      <th>mean</th>\n",
       "      <td>19929.907717</td>\n",
       "      <td>2019.0</td>\n",
       "    </tr>\n",
       "    <tr>\n",
       "      <th>std</th>\n",
       "      <td>5731.107028</td>\n",
       "      <td>0.0</td>\n",
       "    </tr>\n",
       "    <tr>\n",
       "      <th>min</th>\n",
       "      <td>10000.000000</td>\n",
       "      <td>2019.0</td>\n",
       "    </tr>\n",
       "    <tr>\n",
       "      <th>25%</th>\n",
       "      <td>14990.000000</td>\n",
       "      <td>2019.0</td>\n",
       "    </tr>\n",
       "    <tr>\n",
       "      <th>50%</th>\n",
       "      <td>19865.000000</td>\n",
       "      <td>2019.0</td>\n",
       "    </tr>\n",
       "    <tr>\n",
       "      <th>75%</th>\n",
       "      <td>24873.000000</td>\n",
       "      <td>2019.0</td>\n",
       "    </tr>\n",
       "    <tr>\n",
       "      <th>max</th>\n",
       "      <td>29996.000000</td>\n",
       "      <td>2019.0</td>\n",
       "    </tr>\n",
       "  </tbody>\n",
       "</table>\n",
       "</div>"
      ],
      "text/plain": [
       "         student_id     year\n",
       "count  11118.000000  11118.0\n",
       "mean   19929.907717   2019.0\n",
       "std     5731.107028      0.0\n",
       "min    10000.000000   2019.0\n",
       "25%    14990.000000   2019.0\n",
       "50%    19865.000000   2019.0\n",
       "75%    24873.000000   2019.0\n",
       "max    29996.000000   2019.0"
      ]
     },
     "execution_count": 17,
     "metadata": {},
     "output_type": "execute_result"
    }
   ],
   "source": [
    "scores_df.describe()"
   ]
  },
  {
   "cell_type": "markdown",
   "id": "736ebf2c",
   "metadata": {
    "cell_style": "center"
   },
   "source": [
    "Noticed that 3 variables have 998 '.' values.\n",
    "\n",
    "* rit_score\n",
    "* percentile\n",
    "* quartile\n",
    "\n",
    "Luckily, they are all from the same records."
   ]
  },
  {
   "cell_type": "code",
   "execution_count": 18,
   "id": "952afcaa",
   "metadata": {
    "ExecuteTime": {
     "end_time": "2022-11-27T00:52:09.086493Z",
     "start_time": "2022-11-27T00:52:09.077656Z"
    },
    "cell_style": "center"
   },
   "outputs": [
    {
     "data": {
      "text/html": [
       "<div>\n",
       "<style scoped>\n",
       "    .dataframe tbody tr th:only-of-type {\n",
       "        vertical-align: middle;\n",
       "    }\n",
       "\n",
       "    .dataframe tbody tr th {\n",
       "        vertical-align: top;\n",
       "    }\n",
       "\n",
       "    .dataframe thead th {\n",
       "        text-align: right;\n",
       "    }\n",
       "</style>\n",
       "<table border=\"1\" class=\"dataframe\">\n",
       "  <thead>\n",
       "    <tr style=\"text-align: right;\">\n",
       "      <th></th>\n",
       "      <th>student_id</th>\n",
       "      <th>year</th>\n",
       "      <th>map_term</th>\n",
       "      <th>subject</th>\n",
       "      <th>rit_score</th>\n",
       "      <th>percentile</th>\n",
       "      <th>quartile</th>\n",
       "      <th>typical_fall_to_spring_growth</th>\n",
       "    </tr>\n",
       "  </thead>\n",
       "  <tbody>\n",
       "    <tr>\n",
       "      <th>5</th>\n",
       "      <td>20392</td>\n",
       "      <td>2019</td>\n",
       "      <td>Fall</td>\n",
       "      <td>Reading</td>\n",
       "      <td>.</td>\n",
       "      <td>.</td>\n",
       "      <td>.</td>\n",
       "      <td>.</td>\n",
       "    </tr>\n",
       "    <tr>\n",
       "      <th>36</th>\n",
       "      <td>11466</td>\n",
       "      <td>2019</td>\n",
       "      <td>Fall</td>\n",
       "      <td>Reading</td>\n",
       "      <td>.</td>\n",
       "      <td>.</td>\n",
       "      <td>.</td>\n",
       "      <td>.</td>\n",
       "    </tr>\n",
       "    <tr>\n",
       "      <th>42</th>\n",
       "      <td>22276</td>\n",
       "      <td>2019</td>\n",
       "      <td>Fall</td>\n",
       "      <td>Reading</td>\n",
       "      <td>.</td>\n",
       "      <td>.</td>\n",
       "      <td>.</td>\n",
       "      <td>.</td>\n",
       "    </tr>\n",
       "    <tr>\n",
       "      <th>45</th>\n",
       "      <td>27828</td>\n",
       "      <td>2019</td>\n",
       "      <td>Fall</td>\n",
       "      <td>Reading</td>\n",
       "      <td>.</td>\n",
       "      <td>.</td>\n",
       "      <td>.</td>\n",
       "      <td>.</td>\n",
       "    </tr>\n",
       "    <tr>\n",
       "      <th>61</th>\n",
       "      <td>10451</td>\n",
       "      <td>2019</td>\n",
       "      <td>Fall</td>\n",
       "      <td>Reading</td>\n",
       "      <td>.</td>\n",
       "      <td>.</td>\n",
       "      <td>.</td>\n",
       "      <td>.</td>\n",
       "    </tr>\n",
       "    <tr>\n",
       "      <th>...</th>\n",
       "      <td>...</td>\n",
       "      <td>...</td>\n",
       "      <td>...</td>\n",
       "      <td>...</td>\n",
       "      <td>...</td>\n",
       "      <td>...</td>\n",
       "      <td>...</td>\n",
       "      <td>...</td>\n",
       "    </tr>\n",
       "    <tr>\n",
       "      <th>11088</th>\n",
       "      <td>14282</td>\n",
       "      <td>2019</td>\n",
       "      <td>Spring</td>\n",
       "      <td>Math</td>\n",
       "      <td>.</td>\n",
       "      <td>.</td>\n",
       "      <td>.</td>\n",
       "      <td>.</td>\n",
       "    </tr>\n",
       "    <tr>\n",
       "      <th>11089</th>\n",
       "      <td>21081</td>\n",
       "      <td>2019</td>\n",
       "      <td>Spring</td>\n",
       "      <td>Math</td>\n",
       "      <td>.</td>\n",
       "      <td>.</td>\n",
       "      <td>.</td>\n",
       "      <td>.</td>\n",
       "    </tr>\n",
       "    <tr>\n",
       "      <th>11090</th>\n",
       "      <td>17844</td>\n",
       "      <td>2019</td>\n",
       "      <td>Spring</td>\n",
       "      <td>Math</td>\n",
       "      <td>.</td>\n",
       "      <td>.</td>\n",
       "      <td>.</td>\n",
       "      <td>.</td>\n",
       "    </tr>\n",
       "    <tr>\n",
       "      <th>11091</th>\n",
       "      <td>29616</td>\n",
       "      <td>2019</td>\n",
       "      <td>Spring</td>\n",
       "      <td>Math</td>\n",
       "      <td>.</td>\n",
       "      <td>.</td>\n",
       "      <td>.</td>\n",
       "      <td>.</td>\n",
       "    </tr>\n",
       "    <tr>\n",
       "      <th>11092</th>\n",
       "      <td>12448</td>\n",
       "      <td>2019</td>\n",
       "      <td>Spring</td>\n",
       "      <td>Math</td>\n",
       "      <td>.</td>\n",
       "      <td>.</td>\n",
       "      <td>.</td>\n",
       "      <td>.</td>\n",
       "    </tr>\n",
       "  </tbody>\n",
       "</table>\n",
       "<p>998 rows × 8 columns</p>\n",
       "</div>"
      ],
      "text/plain": [
       "       student_id  year map_term  subject rit_score percentile quartile  \\\n",
       "5           20392  2019     Fall  Reading         .          .        .   \n",
       "36          11466  2019     Fall  Reading         .          .        .   \n",
       "42          22276  2019     Fall  Reading         .          .        .   \n",
       "45          27828  2019     Fall  Reading         .          .        .   \n",
       "61          10451  2019     Fall  Reading         .          .        .   \n",
       "...           ...   ...      ...      ...       ...        ...      ...   \n",
       "11088       14282  2019   Spring     Math         .          .        .   \n",
       "11089       21081  2019   Spring     Math         .          .        .   \n",
       "11090       17844  2019   Spring     Math         .          .        .   \n",
       "11091       29616  2019   Spring     Math         .          .        .   \n",
       "11092       12448  2019   Spring     Math         .          .        .   \n",
       "\n",
       "      typical_fall_to_spring_growth  \n",
       "5                                 .  \n",
       "36                                .  \n",
       "42                                .  \n",
       "45                                .  \n",
       "61                                .  \n",
       "...                             ...  \n",
       "11088                             .  \n",
       "11089                             .  \n",
       "11090                             .  \n",
       "11091                             .  \n",
       "11092                             .  \n",
       "\n",
       "[998 rows x 8 columns]"
      ]
     },
     "execution_count": 18,
     "metadata": {},
     "output_type": "execute_result"
    }
   ],
   "source": [
    "missing_rit_df = scores_df.loc[scores_df.quartile == '.']\n",
    "missing_rit_df"
   ]
  },
  {
   "cell_type": "markdown",
   "id": "c477a4f4",
   "metadata": {},
   "source": [
    "There's also another variable with more of the same value. For the above, maybe it means they didn't take that test?"
   ]
  },
  {
   "cell_type": "code",
   "execution_count": 19,
   "id": "14b2bbf5",
   "metadata": {
    "ExecuteTime": {
     "end_time": "2022-11-27T00:52:09.096146Z",
     "start_time": "2022-11-27T00:52:09.087517Z"
    }
   },
   "outputs": [
    {
     "data": {
      "text/html": [
       "<div>\n",
       "<style scoped>\n",
       "    .dataframe tbody tr th:only-of-type {\n",
       "        vertical-align: middle;\n",
       "    }\n",
       "\n",
       "    .dataframe tbody tr th {\n",
       "        vertical-align: top;\n",
       "    }\n",
       "\n",
       "    .dataframe thead th {\n",
       "        text-align: right;\n",
       "    }\n",
       "</style>\n",
       "<table border=\"1\" class=\"dataframe\">\n",
       "  <thead>\n",
       "    <tr style=\"text-align: right;\">\n",
       "      <th></th>\n",
       "      <th>student_id</th>\n",
       "      <th>year</th>\n",
       "      <th>map_term</th>\n",
       "      <th>subject</th>\n",
       "      <th>rit_score</th>\n",
       "      <th>percentile</th>\n",
       "      <th>quartile</th>\n",
       "      <th>typical_fall_to_spring_growth</th>\n",
       "    </tr>\n",
       "  </thead>\n",
       "  <tbody>\n",
       "    <tr>\n",
       "      <th>5</th>\n",
       "      <td>20392</td>\n",
       "      <td>2019</td>\n",
       "      <td>Fall</td>\n",
       "      <td>Reading</td>\n",
       "      <td>.</td>\n",
       "      <td>.</td>\n",
       "      <td>.</td>\n",
       "      <td>.</td>\n",
       "    </tr>\n",
       "    <tr>\n",
       "      <th>36</th>\n",
       "      <td>11466</td>\n",
       "      <td>2019</td>\n",
       "      <td>Fall</td>\n",
       "      <td>Reading</td>\n",
       "      <td>.</td>\n",
       "      <td>.</td>\n",
       "      <td>.</td>\n",
       "      <td>.</td>\n",
       "    </tr>\n",
       "    <tr>\n",
       "      <th>42</th>\n",
       "      <td>22276</td>\n",
       "      <td>2019</td>\n",
       "      <td>Fall</td>\n",
       "      <td>Reading</td>\n",
       "      <td>.</td>\n",
       "      <td>.</td>\n",
       "      <td>.</td>\n",
       "      <td>.</td>\n",
       "    </tr>\n",
       "    <tr>\n",
       "      <th>45</th>\n",
       "      <td>27828</td>\n",
       "      <td>2019</td>\n",
       "      <td>Fall</td>\n",
       "      <td>Reading</td>\n",
       "      <td>.</td>\n",
       "      <td>.</td>\n",
       "      <td>.</td>\n",
       "      <td>.</td>\n",
       "    </tr>\n",
       "    <tr>\n",
       "      <th>61</th>\n",
       "      <td>10451</td>\n",
       "      <td>2019</td>\n",
       "      <td>Fall</td>\n",
       "      <td>Reading</td>\n",
       "      <td>.</td>\n",
       "      <td>.</td>\n",
       "      <td>.</td>\n",
       "      <td>.</td>\n",
       "    </tr>\n",
       "    <tr>\n",
       "      <th>...</th>\n",
       "      <td>...</td>\n",
       "      <td>...</td>\n",
       "      <td>...</td>\n",
       "      <td>...</td>\n",
       "      <td>...</td>\n",
       "      <td>...</td>\n",
       "      <td>...</td>\n",
       "      <td>...</td>\n",
       "    </tr>\n",
       "    <tr>\n",
       "      <th>11113</th>\n",
       "      <td>16492</td>\n",
       "      <td>2019</td>\n",
       "      <td>Spring</td>\n",
       "      <td>Math</td>\n",
       "      <td>181</td>\n",
       "      <td>94</td>\n",
       "      <td>4</td>\n",
       "      <td>.</td>\n",
       "    </tr>\n",
       "    <tr>\n",
       "      <th>11114</th>\n",
       "      <td>28883</td>\n",
       "      <td>2019</td>\n",
       "      <td>Spring</td>\n",
       "      <td>Math</td>\n",
       "      <td>166</td>\n",
       "      <td>69</td>\n",
       "      <td>3</td>\n",
       "      <td>.</td>\n",
       "    </tr>\n",
       "    <tr>\n",
       "      <th>11115</th>\n",
       "      <td>28277</td>\n",
       "      <td>2019</td>\n",
       "      <td>Spring</td>\n",
       "      <td>Math</td>\n",
       "      <td>155</td>\n",
       "      <td>38</td>\n",
       "      <td>2</td>\n",
       "      <td>.</td>\n",
       "    </tr>\n",
       "    <tr>\n",
       "      <th>11116</th>\n",
       "      <td>18061</td>\n",
       "      <td>2019</td>\n",
       "      <td>Spring</td>\n",
       "      <td>Math</td>\n",
       "      <td>146</td>\n",
       "      <td>17</td>\n",
       "      <td>1</td>\n",
       "      <td>.</td>\n",
       "    </tr>\n",
       "    <tr>\n",
       "      <th>11117</th>\n",
       "      <td>28926</td>\n",
       "      <td>2019</td>\n",
       "      <td>Spring</td>\n",
       "      <td>Math</td>\n",
       "      <td>161</td>\n",
       "      <td>55</td>\n",
       "      <td>3</td>\n",
       "      <td>.</td>\n",
       "    </tr>\n",
       "  </tbody>\n",
       "</table>\n",
       "<p>6046 rows × 8 columns</p>\n",
       "</div>"
      ],
      "text/plain": [
       "       student_id  year map_term  subject rit_score percentile quartile  \\\n",
       "5           20392  2019     Fall  Reading         .          .        .   \n",
       "36          11466  2019     Fall  Reading         .          .        .   \n",
       "42          22276  2019     Fall  Reading         .          .        .   \n",
       "45          27828  2019     Fall  Reading         .          .        .   \n",
       "61          10451  2019     Fall  Reading         .          .        .   \n",
       "...           ...   ...      ...      ...       ...        ...      ...   \n",
       "11113       16492  2019   Spring     Math       181         94        4   \n",
       "11114       28883  2019   Spring     Math       166         69        3   \n",
       "11115       28277  2019   Spring     Math       155         38        2   \n",
       "11116       18061  2019   Spring     Math       146         17        1   \n",
       "11117       28926  2019   Spring     Math       161         55        3   \n",
       "\n",
       "      typical_fall_to_spring_growth  \n",
       "5                                 .  \n",
       "36                                .  \n",
       "42                                .  \n",
       "45                                .  \n",
       "61                                .  \n",
       "...                             ...  \n",
       "11113                             .  \n",
       "11114                             .  \n",
       "11115                             .  \n",
       "11116                             .  \n",
       "11117                             .  \n",
       "\n",
       "[6046 rows x 8 columns]"
      ]
     },
     "execution_count": 19,
     "metadata": {},
     "output_type": "execute_result"
    }
   ],
   "source": [
    "scores_df.loc[scores_df.typical_fall_to_spring_growth == '.']"
   ]
  },
  {
   "cell_type": "code",
   "execution_count": 20,
   "id": "8945c326",
   "metadata": {
    "ExecuteTime": {
     "end_time": "2022-11-27T00:52:09.102335Z",
     "start_time": "2022-11-27T00:52:09.097223Z"
    }
   },
   "outputs": [
    {
     "data": {
      "text/plain": [
       "Math       5560\n",
       "Reading    5452\n",
       "Read        106\n",
       "Name: subject, dtype: int64"
      ]
     },
     "execution_count": 20,
     "metadata": {},
     "output_type": "execute_result"
    }
   ],
   "source": [
    "scores_df.subject.value_counts()"
   ]
  },
  {
   "cell_type": "markdown",
   "id": "7affc5b6",
   "metadata": {},
   "source": [
    "There's also some records where the subject of the test was \"Read\" instead of \"Reading\". I've looked at some rows and it looks like it's just an error and not a duplicate of any sort."
   ]
  },
  {
   "cell_type": "code",
   "execution_count": 21,
   "id": "712b68ae",
   "metadata": {
    "ExecuteTime": {
     "end_time": "2022-11-27T00:52:09.109426Z",
     "start_time": "2022-11-27T00:52:09.103453Z"
    }
   },
   "outputs": [],
   "source": [
    "# change read to reading\n",
    "scores_df.loc[scores_df.subject == 'Read', 'subject'] = 'Reading'"
   ]
  },
  {
   "cell_type": "code",
   "execution_count": 22,
   "id": "450244cc",
   "metadata": {
    "ExecuteTime": {
     "end_time": "2022-11-27T00:52:09.115956Z",
     "start_time": "2022-11-27T00:52:09.110292Z"
    }
   },
   "outputs": [
    {
     "data": {
      "text/plain": [
       "Math       5560\n",
       "Reading    5558\n",
       "Name: subject, dtype: int64"
      ]
     },
     "execution_count": 22,
     "metadata": {},
     "output_type": "execute_result"
    }
   ],
   "source": [
    "scores_df.subject.value_counts()"
   ]
  },
  {
   "cell_type": "markdown",
   "id": "005168f7",
   "metadata": {},
   "source": [
    "## Special Populations"
   ]
  },
  {
   "cell_type": "code",
   "execution_count": 23,
   "id": "3b0157d5",
   "metadata": {
    "ExecuteTime": {
     "end_time": "2022-11-27T00:52:09.121239Z",
     "start_time": "2022-11-27T00:52:09.117232Z"
    }
   },
   "outputs": [
    {
     "data": {
      "text/plain": [
       ".         2260\n",
       "Gifted     197\n",
       "SPED       188\n",
       "Tier 2      87\n",
       "LEP         32\n",
       "504         19\n",
       "SPED         1\n",
       "Name: program_name, dtype: int64"
      ]
     },
     "execution_count": 23,
     "metadata": {},
     "output_type": "execute_result"
    }
   ],
   "source": [
    "sped_df.program_name.value_counts()"
   ]
  },
  {
   "cell_type": "markdown",
   "id": "ee214333",
   "metadata": {},
   "source": [
    "Looks like there's a student marked SPED but it's somehow different. Corrected below."
   ]
  },
  {
   "cell_type": "code",
   "execution_count": 24,
   "id": "4a63650e",
   "metadata": {
    "ExecuteTime": {
     "end_time": "2022-11-27T00:52:09.127907Z",
     "start_time": "2022-11-27T00:52:09.122373Z"
    }
   },
   "outputs": [
    {
     "data": {
      "text/plain": [
       "array(['SPED', '.', 'LEP', 'Tier 2', 'Gifted', nan, '504', 'SPED '],\n",
       "      dtype=object)"
      ]
     },
     "execution_count": 24,
     "metadata": {},
     "output_type": "execute_result"
    }
   ],
   "source": [
    "sped_df.program_name.unique()"
   ]
  },
  {
   "cell_type": "markdown",
   "id": "490dad5c",
   "metadata": {},
   "source": [
    "Yeah, it has a space. Removing it."
   ]
  },
  {
   "cell_type": "code",
   "execution_count": 25,
   "id": "3c718d84",
   "metadata": {
    "ExecuteTime": {
     "end_time": "2022-11-27T00:52:09.132552Z",
     "start_time": "2022-11-27T00:52:09.129029Z"
    }
   },
   "outputs": [],
   "source": [
    "sped_df.loc[sped_df.program_name == 'SPED ', 'program_name'] = 'SPED'"
   ]
  },
  {
   "cell_type": "code",
   "execution_count": 26,
   "id": "0a9c64af",
   "metadata": {
    "ExecuteTime": {
     "end_time": "2022-11-27T00:52:09.138358Z",
     "start_time": "2022-11-27T00:52:09.133516Z"
    }
   },
   "outputs": [
    {
     "data": {
      "text/plain": [
       ".         2260\n",
       "Gifted     197\n",
       "SPED       189\n",
       "Tier 2      87\n",
       "LEP         32\n",
       "504         19\n",
       "Name: program_name, dtype: int64"
      ]
     },
     "execution_count": 26,
     "metadata": {},
     "output_type": "execute_result"
    }
   ],
   "source": [
    "sped_df.program_name.value_counts()"
   ]
  },
  {
   "cell_type": "markdown",
   "id": "67bcc632",
   "metadata": {},
   "source": [
    "# Completion Analysis"
   ]
  },
  {
   "cell_type": "markdown",
   "id": "26b38498",
   "metadata": {},
   "source": [
    "What percent of students enrolled are completing their MAP assessments?"
   ]
  },
  {
   "cell_type": "code",
   "execution_count": 27,
   "id": "e871b883",
   "metadata": {
    "ExecuteTime": {
     "end_time": "2022-11-27T00:52:09.144939Z",
     "start_time": "2022-11-27T00:52:09.139665Z"
    }
   },
   "outputs": [
    {
     "data": {
      "text/plain": [
       "2787"
      ]
     },
     "execution_count": 27,
     "metadata": {},
     "output_type": "execute_result"
    }
   ],
   "source": [
    "# how many students enrolled total?\n",
    "unique_enrolled_count = enrollment_df.student_id.nunique()\n",
    "unique_enrolled_count"
   ]
  },
  {
   "cell_type": "code",
   "execution_count": 28,
   "id": "ad38fd55",
   "metadata": {
    "ExecuteTime": {
     "end_time": "2022-11-27T00:52:09.155092Z",
     "start_time": "2022-11-27T00:52:09.145923Z"
    }
   },
   "outputs": [],
   "source": [
    "# merge scores to students\n",
    "merged_df = enrollment_df.merge(scores_df, on='student_id', how='left')\n",
    "\n",
    "# merge sped program status to students and scores\n",
    "merged_df = merged_df.merge(sped_df, on='student_id', how='left')"
   ]
  },
  {
   "cell_type": "code",
   "execution_count": 29,
   "id": "7b6d4c1a",
   "metadata": {
    "ExecuteTime": {
     "end_time": "2022-11-27T00:52:09.167575Z",
     "start_time": "2022-11-27T00:52:09.156102Z"
    }
   },
   "outputs": [],
   "source": [
    "# split into 4 different assessment tables\n",
    "fall_math_df = merged_df.loc[(merged_df.map_term == 'Fall') &\n",
    "                             (merged_df.subject == 'Math')]\n",
    "\n",
    "fall_read_df = merged_df.loc[(merged_df.map_term == 'Fall') &\n",
    "                             (merged_df.subject == 'Reading')]\n",
    "\n",
    "spring_math_df = merged_df.loc[(merged_df.map_term == 'Spring') &\n",
    "                               (merged_df.subject == 'Math')]\n",
    "\n",
    "spring_read_df = merged_df.loc[(merged_df.map_term == 'Spring') &\n",
    "                               (merged_df.subject == 'Reading')]"
   ]
  },
  {
   "cell_type": "code",
   "execution_count": 30,
   "id": "765ddb63",
   "metadata": {
    "ExecuteTime": {
     "end_time": "2022-11-27T00:52:09.174006Z",
     "start_time": "2022-11-27T00:52:09.168601Z"
    }
   },
   "outputs": [],
   "source": [
    "# get count of students that have a score for each assessment\n",
    "fall_math_count = fall_math_df.loc[~(fall_math_df.rit_score == '.')].shape[0]\n",
    "fall_read_count = fall_read_df.loc[~(fall_read_df.rit_score == '.')].shape[0]\n",
    "spring_math_count = spring_math_df.loc[~(spring_math_df.rit_score == '.')].shape[0]\n",
    "spring_read_count = spring_read_df.loc[~(spring_read_df.rit_score == '.')].shape[0]"
   ]
  },
  {
   "cell_type": "code",
   "execution_count": 31,
   "id": "4f80369b",
   "metadata": {
    "ExecuteTime": {
     "end_time": "2022-11-27T00:52:09.177282Z",
     "start_time": "2022-11-27T00:52:09.174952Z"
    }
   },
   "outputs": [
    {
     "data": {
      "text/plain": [
       "2528"
      ]
     },
     "execution_count": 31,
     "metadata": {},
     "output_type": "execute_result"
    }
   ],
   "source": [
    "fall_math_count"
   ]
  },
  {
   "cell_type": "code",
   "execution_count": 32,
   "id": "39ce7add",
   "metadata": {
    "ExecuteTime": {
     "end_time": "2022-11-27T00:52:09.184233Z",
     "start_time": "2022-11-27T00:52:09.178492Z"
    }
   },
   "outputs": [
    {
     "data": {
      "text/plain": [
       "2544"
      ]
     },
     "execution_count": 32,
     "metadata": {},
     "output_type": "execute_result"
    }
   ],
   "source": [
    "fall_read_count"
   ]
  },
  {
   "cell_type": "code",
   "execution_count": 33,
   "id": "f129c129",
   "metadata": {
    "ExecuteTime": {
     "end_time": "2022-11-27T00:52:09.189068Z",
     "start_time": "2022-11-27T00:52:09.185386Z"
    }
   },
   "outputs": [
    {
     "data": {
      "text/plain": [
       "2787"
      ]
     },
     "execution_count": 33,
     "metadata": {},
     "output_type": "execute_result"
    }
   ],
   "source": [
    "unique_enrolled_count"
   ]
  },
  {
   "cell_type": "code",
   "execution_count": 34,
   "id": "d32f6b99",
   "metadata": {
    "ExecuteTime": {
     "end_time": "2022-11-27T00:52:09.193875Z",
     "start_time": "2022-11-27T00:52:09.190048Z"
    }
   },
   "outputs": [],
   "source": [
    "# create dictionaries, then dataframe to create graphs\n",
    "math_dict = {'Fall':round(fall_math_count/unique_enrolled_count*100,2),\n",
    "             'Spring':round(spring_math_count/unique_enrolled_count*100,2)}\n",
    "\n",
    "math_completion_df = pd.DataFrame(math_dict, index=[0])\n",
    "\n",
    "read_dict = {'Fall':round(fall_read_count/unique_enrolled_count*100,2),\n",
    "             'Spring':round(spring_read_count/unique_enrolled_count*100,2)}\n",
    "\n",
    "read_completion_df = pd.DataFrame(read_dict, index=[0])"
   ]
  },
  {
   "cell_type": "code",
   "execution_count": 35,
   "id": "37f5ab57",
   "metadata": {
    "ExecuteTime": {
     "end_time": "2022-11-27T00:52:09.317136Z",
     "start_time": "2022-11-27T00:52:09.195159Z"
    },
    "scrolled": true
   },
   "outputs": [
    {
     "data": {
      "image/png": "[encoded data removed]",
      "text/plain": [
       "<Figure size 1080x360 with 2 Axes>"
      ]
     },
     "metadata": {
      "needs_background": "light"
     },
     "output_type": "display_data"
    }
   ],
   "source": [
    "# graph dataframes\n",
    "plt.figure(figsize=(15,5))\n",
    "\n",
    "plt.subplot(1,2,1)\n",
    "ax = sns.barplot(data=math_completion_df,\n",
    "                 palette='crest')\n",
    "sns.despine()\n",
    "ax.bar_label(ax.containers[0])\n",
    "plt.ylim(80,100)\n",
    "plt.title('% of Enrolled Students that\\nCompleted Math MAP',\n",
    "          weight='bold')\n",
    "\n",
    "plt.subplot(1,2,2)\n",
    "ax = sns.barplot(data=read_completion_df,\n",
    "                 palette='rocket')\n",
    "sns.despine()\n",
    "ax.bar_label(ax.containers[0])\n",
    "plt.ylim(80,100)\n",
    "plt.title('% of Enrolled Students that\\nCompleted Reading MAP',\n",
    "          weight='bold')\n",
    "\n",
    "plt.show()"
   ]
  },
  {
   "cell_type": "code",
   "execution_count": 36,
   "id": "3c05e111",
   "metadata": {
    "ExecuteTime": {
     "end_time": "2022-11-27T00:52:09.320575Z",
     "start_time": "2022-11-27T00:52:09.318362Z"
    }
   },
   "outputs": [
    {
     "data": {
      "text/plain": [
       "2523"
      ]
     },
     "execution_count": 36,
     "metadata": {},
     "output_type": "execute_result"
    }
   ],
   "source": [
    "spring_math_count"
   ]
  },
  {
   "cell_type": "code",
   "execution_count": 37,
   "id": "61be08bb",
   "metadata": {
    "ExecuteTime": {
     "end_time": "2022-11-27T00:52:09.327211Z",
     "start_time": "2022-11-27T00:52:09.321778Z"
    }
   },
   "outputs": [
    {
     "data": {
      "text/plain": [
       "2525"
      ]
     },
     "execution_count": 37,
     "metadata": {},
     "output_type": "execute_result"
    }
   ],
   "source": [
    "spring_read_count"
   ]
  },
  {
   "cell_type": "markdown",
   "id": "cd354540",
   "metadata": {
    "ExecuteTime": {
     "end_time": "2022-11-24T00:33:05.804153Z",
     "start_time": "2022-11-24T00:33:05.782510Z"
    }
   },
   "source": [
    "Though the above charts don't provide much insight, they do bring up another question:\n",
    "* What's going on with ~10% of the students for each assessment? Is it a particular school? Maybe a particular grade level?"
   ]
  },
  {
   "cell_type": "markdown",
   "id": "28af2f74",
   "metadata": {},
   "source": [
    "## Completion by School"
   ]
  },
  {
   "cell_type": "code",
   "execution_count": 38,
   "id": "a448feec",
   "metadata": {
    "ExecuteTime": {
     "end_time": "2022-11-27T00:52:09.336948Z",
     "start_time": "2022-11-27T00:52:09.328296Z"
    }
   },
   "outputs": [],
   "source": [
    "# get unique school list to use with a function\n",
    "school_list = list(enrollment_df.school_name.unique())\n",
    "\n",
    "# create empty lists to contain dicts\n",
    "# these will be turned into dataframes\n",
    "math_dicts_list = []\n",
    "read_dicts_list = []\n",
    "\n",
    "def get_completion(school):\n",
    "    # grab only records from the desired school\n",
    "    school_df = merged_df.loc[merged_df.school_name == '{}'.format(school)]\n",
    "    \n",
    "    # get count of students enrolled at the school\n",
    "    school_enrolled_count = school_df.student_id.nunique()\n",
    "    \n",
    "    # split into 4 different assessment tables\n",
    "    fall_math_df = school_df.loc[(school_df.map_term == 'Fall') &\n",
    "                                 (school_df.subject == 'Math')]\n",
    "\n",
    "    fall_read_df = school_df.loc[(school_df.map_term == 'Fall') &\n",
    "                                 (school_df.subject == 'Reading')]\n",
    "\n",
    "    spring_math_df = school_df.loc[(school_df.map_term == 'Spring') &\n",
    "                                   (school_df.subject == 'Math')]\n",
    "\n",
    "    spring_read_df = school_df.loc[(school_df.map_term == 'Spring') &\n",
    "                                   (school_df.subject == 'Reading')]\n",
    "    \n",
    "    # get count of students that have a score for each assessment\n",
    "    fall_math_count = fall_math_df.loc[~(fall_math_df.rit_score == '.')].shape[0]\n",
    "    fall_read_count = fall_read_df.loc[~(fall_read_df.rit_score == '.')].shape[0]\n",
    "    spring_math_count = spring_math_df.loc[~(spring_math_df.rit_score == '.')].shape[0]\n",
    "    spring_read_count = spring_read_df.loc[~(spring_read_df.rit_score == '.')].shape[0]\n",
    "    \n",
    "    # create dictionaries and append to our empty dicts list\n",
    "    temp_math_dict = {}\n",
    "    temp_math_dict = {'School Name':school,\n",
    "                      'Math Fall':round(fall_math_count/school_enrolled_count*100,2),\n",
    "                      'Math Spring':round(spring_math_count/school_enrolled_count*100,2)}\n",
    "    \n",
    "    math_dicts_list.append(temp_math_dict)\n",
    "    \n",
    "    temp_read_dict = {}\n",
    "    temp_read_dict = {'School Name':school,\n",
    "                      'Reading Fall':round(fall_read_count/school_enrolled_count*100,2),\n",
    "                      'Reading Spring':round(spring_read_count/school_enrolled_count*100,2)}\n",
    "    \n",
    "    # fill in the list of dicts\n",
    "    read_dicts_list.append(temp_read_dict)"
   ]
  },
  {
   "cell_type": "code",
   "execution_count": 39,
   "id": "aaf8682a",
   "metadata": {
    "ExecuteTime": {
     "end_time": "2022-11-27T00:52:09.372198Z",
     "start_time": "2022-11-27T00:52:09.337982Z"
    }
   },
   "outputs": [],
   "source": [
    "# run the function over the list of school names, thus filling in our list of dicts\n",
    "for school in school_list:\n",
    "    get_completion(school)\n",
    "    \n",
    "# now we'll create dataframes from the list of dicts\n",
    "math_completion_by_school_df = pd.DataFrame(data=math_dicts_list).sort_values(by='School Name').reset_index(drop=True)\n",
    "\n",
    "read_completion_by_school_df = pd.DataFrame(data=read_dicts_list).sort_values(by='School Name').reset_index(drop=True)"
   ]
  },
  {
   "cell_type": "code",
   "execution_count": 40,
   "id": "220955ab",
   "metadata": {
    "ExecuteTime": {
     "end_time": "2022-11-27T00:52:09.378112Z",
     "start_time": "2022-11-27T00:52:09.373360Z"
    }
   },
   "outputs": [
    {
     "data": {
      "text/html": [
       "<div>\n",
       "<style scoped>\n",
       "    .dataframe tbody tr th:only-of-type {\n",
       "        vertical-align: middle;\n",
       "    }\n",
       "\n",
       "    .dataframe tbody tr th {\n",
       "        vertical-align: top;\n",
       "    }\n",
       "\n",
       "    .dataframe thead th {\n",
       "        text-align: right;\n",
       "    }\n",
       "</style>\n",
       "<table border=\"1\" class=\"dataframe\">\n",
       "  <thead>\n",
       "    <tr style=\"text-align: right;\">\n",
       "      <th></th>\n",
       "      <th>School Name</th>\n",
       "      <th>Math Fall</th>\n",
       "      <th>Math Spring</th>\n",
       "    </tr>\n",
       "  </thead>\n",
       "  <tbody>\n",
       "    <tr>\n",
       "      <th>0</th>\n",
       "      <td>School A</td>\n",
       "      <td>86.79</td>\n",
       "      <td>89.76</td>\n",
       "    </tr>\n",
       "    <tr>\n",
       "      <th>1</th>\n",
       "      <td>School B</td>\n",
       "      <td>91.88</td>\n",
       "      <td>88.80</td>\n",
       "    </tr>\n",
       "    <tr>\n",
       "      <th>2</th>\n",
       "      <td>School C</td>\n",
       "      <td>93.33</td>\n",
       "      <td>93.06</td>\n",
       "    </tr>\n",
       "    <tr>\n",
       "      <th>3</th>\n",
       "      <td>School D</td>\n",
       "      <td>78.25</td>\n",
       "      <td>83.25</td>\n",
       "    </tr>\n",
       "    <tr>\n",
       "      <th>4</th>\n",
       "      <td>School E</td>\n",
       "      <td>97.22</td>\n",
       "      <td>95.73</td>\n",
       "    </tr>\n",
       "    <tr>\n",
       "      <th>5</th>\n",
       "      <td>School F</td>\n",
       "      <td>95.36</td>\n",
       "      <td>90.72</td>\n",
       "    </tr>\n",
       "    <tr>\n",
       "      <th>6</th>\n",
       "      <td>School G</td>\n",
       "      <td>89.36</td>\n",
       "      <td>90.58</td>\n",
       "    </tr>\n",
       "  </tbody>\n",
       "</table>\n",
       "</div>"
      ],
      "text/plain": [
       "  School Name  Math Fall  Math Spring\n",
       "0    School A      86.79        89.76\n",
       "1    School B      91.88        88.80\n",
       "2    School C      93.33        93.06\n",
       "3    School D      78.25        83.25\n",
       "4    School E      97.22        95.73\n",
       "5    School F      95.36        90.72\n",
       "6    School G      89.36        90.58"
      ]
     },
     "execution_count": 40,
     "metadata": {},
     "output_type": "execute_result"
    }
   ],
   "source": [
    "math_completion_by_school_df"
   ]
  },
  {
   "cell_type": "code",
   "execution_count": 41,
   "id": "a0d40448",
   "metadata": {
    "ExecuteTime": {
     "end_time": "2022-11-27T00:52:09.390361Z",
     "start_time": "2022-11-27T00:52:09.379392Z"
    },
    "cell_style": "center"
   },
   "outputs": [
    {
     "data": {
      "text/html": [
       "<div>\n",
       "<style scoped>\n",
       "    .dataframe tbody tr th:only-of-type {\n",
       "        vertical-align: middle;\n",
       "    }\n",
       "\n",
       "    .dataframe tbody tr th {\n",
       "        vertical-align: top;\n",
       "    }\n",
       "\n",
       "    .dataframe thead th {\n",
       "        text-align: right;\n",
       "    }\n",
       "</style>\n",
       "<table border=\"1\" class=\"dataframe\">\n",
       "  <thead>\n",
       "    <tr style=\"text-align: right;\">\n",
       "      <th></th>\n",
       "      <th>School Name</th>\n",
       "      <th>Math Fall</th>\n",
       "      <th>Math Spring</th>\n",
       "      <th>Reading Fall</th>\n",
       "      <th>Reading Spring</th>\n",
       "    </tr>\n",
       "  </thead>\n",
       "  <tbody>\n",
       "    <tr>\n",
       "      <th>0</th>\n",
       "      <td>School A</td>\n",
       "      <td>86.79</td>\n",
       "      <td>89.76</td>\n",
       "      <td>86.25</td>\n",
       "      <td>89.49</td>\n",
       "    </tr>\n",
       "    <tr>\n",
       "      <th>1</th>\n",
       "      <td>School B</td>\n",
       "      <td>91.88</td>\n",
       "      <td>88.80</td>\n",
       "      <td>92.72</td>\n",
       "      <td>89.36</td>\n",
       "    </tr>\n",
       "    <tr>\n",
       "      <th>2</th>\n",
       "      <td>School C</td>\n",
       "      <td>93.33</td>\n",
       "      <td>93.06</td>\n",
       "      <td>93.33</td>\n",
       "      <td>93.06</td>\n",
       "    </tr>\n",
       "    <tr>\n",
       "      <th>3</th>\n",
       "      <td>School D</td>\n",
       "      <td>78.25</td>\n",
       "      <td>83.25</td>\n",
       "      <td>78.25</td>\n",
       "      <td>83.25</td>\n",
       "    </tr>\n",
       "    <tr>\n",
       "      <th>4</th>\n",
       "      <td>School E</td>\n",
       "      <td>97.22</td>\n",
       "      <td>95.73</td>\n",
       "      <td>97.03</td>\n",
       "      <td>95.92</td>\n",
       "    </tr>\n",
       "    <tr>\n",
       "      <th>5</th>\n",
       "      <td>School F</td>\n",
       "      <td>95.36</td>\n",
       "      <td>90.72</td>\n",
       "      <td>95.36</td>\n",
       "      <td>90.95</td>\n",
       "    </tr>\n",
       "    <tr>\n",
       "      <th>6</th>\n",
       "      <td>School G</td>\n",
       "      <td>89.36</td>\n",
       "      <td>90.58</td>\n",
       "      <td>94.22</td>\n",
       "      <td>90.27</td>\n",
       "    </tr>\n",
       "  </tbody>\n",
       "</table>\n",
       "</div>"
      ],
      "text/plain": [
       "  School Name  Math Fall  Math Spring  Reading Fall  Reading Spring\n",
       "0    School A      86.79        89.76         86.25           89.49\n",
       "1    School B      91.88        88.80         92.72           89.36\n",
       "2    School C      93.33        93.06         93.33           93.06\n",
       "3    School D      78.25        83.25         78.25           83.25\n",
       "4    School E      97.22        95.73         97.03           95.92\n",
       "5    School F      95.36        90.72         95.36           90.95\n",
       "6    School G      89.36        90.58         94.22           90.27"
      ]
     },
     "execution_count": 41,
     "metadata": {},
     "output_type": "execute_result"
    }
   ],
   "source": [
    "# merge into one\n",
    "completion_by_school_df = math_completion_by_school_df.merge(read_completion_by_school_df,\n",
    "                                                             on='School Name',\n",
    "                                                             how='inner').sort_values(by='School Name').reset_index(drop=True)\n",
    "# adjust a little bit\n",
    "# check it out\n",
    "completion_by_school_df"
   ]
  },
  {
   "cell_type": "code",
   "execution_count": 42,
   "id": "d8094145",
   "metadata": {
    "ExecuteTime": {
     "end_time": "2022-11-27T00:52:09.399919Z",
     "start_time": "2022-11-27T00:52:09.391803Z"
    }
   },
   "outputs": [],
   "source": [
    "# adjust column names of split dataframes\n",
    "math_completion_by_school_df.columns = ['School Name', 'Fall', 'Spring']\n",
    "read_completion_by_school_df.columns = ['School Name', 'Fall', 'Spring']\n",
    "\n",
    "# melt\n",
    "math_completion_by_school_df = math_completion_by_school_df.melt(id_vars='School Name',\n",
    "                                                                 var_name='Term',\n",
    "                                                                 value_name='Percent Completed')\n",
    "\n",
    "read_completion_by_school_df = read_completion_by_school_df.melt(id_vars='School Name',\n",
    "                                                                 var_name='Term',\n",
    "                                                                 value_name='Percent Completed')"
   ]
  },
  {
   "cell_type": "code",
   "execution_count": 68,
   "id": "9d2e2972",
   "metadata": {
    "ExecuteTime": {
     "end_time": "2022-11-27T00:52:41.630385Z",
     "start_time": "2022-11-27T00:52:41.397505Z"
    },
    "cell_style": "center"
   },
   "outputs": [
    {
     "data": {
      "image/png": "[encoded data removed]",
      "text/plain": [
       "<Figure size 720x360 with 1 Axes>"
      ]
     },
     "metadata": {
      "needs_background": "light"
     },
     "output_type": "display_data"
    }
   ],
   "source": [
    "# cool\n",
    "# let's graph it\n",
    "plt.figure(figsize=(10,5))\n",
    "\n",
    "ax_1 = sns.barplot(x='Term',\n",
    "                   y='Percent Completed',\n",
    "                   data=math_completion_by_school_df,\n",
    "                   hue='School Name',\n",
    "                   palette='crest',\n",
    "                   edgecolor='black')\n",
    "sns.despine()\n",
    "ax_1.bar_label(ax_1.containers[0])\n",
    "ax_1.bar_label(ax_1.containers[1])\n",
    "ax_1.bar_label(ax_1.containers[2])\n",
    "ax_1.bar_label(ax_1.containers[3])\n",
    "ax_1.bar_label(ax_1.containers[4])\n",
    "ax_1.bar_label(ax_1.containers[5])\n",
    "ax_1.bar_label(ax_1.containers[6])\n",
    "\n",
    "plt.xlabel('Testing Window')\n",
    "plt.ylim(70,100)\n",
    "\n",
    "plt.title('Math MAP Completion of Enrolled Students\\nby Window and KIPP Schools',\n",
    "          weight='bold',\n",
    "          size=15,\n",
    "          loc='right')\n",
    "\n",
    "ax_1.legend_.remove()\n",
    "\n",
    "plt.show()"
   ]
  },
  {
   "cell_type": "code",
   "execution_count": 69,
   "id": "41e47b5a",
   "metadata": {
    "ExecuteTime": {
     "end_time": "2022-11-27T00:52:56.641401Z",
     "start_time": "2022-11-27T00:52:56.509642Z"
    }
   },
   "outputs": [
    {
     "data": {
      "image/png": "[encoded data removed]",
      "text/plain": [
       "<Figure size 720x360 with 1 Axes>"
      ]
     },
     "metadata": {
      "needs_background": "light"
     },
     "output_type": "display_data"
    }
   ],
   "source": [
    "# reading completion\n",
    "plt.figure(figsize=(10,5))\n",
    "\n",
    "ax_2 = sns.barplot(x='Term',\n",
    "                   y='Percent Completed',\n",
    "                   data=read_completion_by_school_df,\n",
    "                   hue='School Name',\n",
    "                   palette='rocket',\n",
    "                   edgecolor='black')\n",
    "sns.despine()\n",
    "ax_2.bar_label(ax_2.containers[0])\n",
    "ax_2.bar_label(ax_2.containers[1])\n",
    "ax_2.bar_label(ax_2.containers[2])\n",
    "ax_2.bar_label(ax_2.containers[3])\n",
    "ax_2.bar_label(ax_2.containers[4])\n",
    "ax_2.bar_label(ax_2.containers[5])\n",
    "ax_2.bar_label(ax_2.containers[6])\n",
    "\n",
    "plt.legend(loc='lower right')\n",
    "\n",
    "plt.ylim(70,100)\n",
    "plt.xlabel('Testing Window')\n",
    "\n",
    "plt.title('Reading MAP Completion of Enrolled Students\\nby Window and KIPP Schools',\n",
    "          weight='bold',\n",
    "          size=15,\n",
    "          loc='right')\n",
    "\n",
    "ax_2.legend_.remove()\n",
    "\n",
    "plt.show()"
   ]
  },
  {
   "cell_type": "markdown",
   "id": "851c0afc",
   "metadata": {},
   "source": [
    "Before we make assumptions about what schools should be provided support for MAP completion, we should look at their enrollment counts."
   ]
  },
  {
   "cell_type": "code",
   "execution_count": 45,
   "id": "65851031",
   "metadata": {
    "ExecuteTime": {
     "end_time": "2022-11-27T00:52:09.787794Z",
     "start_time": "2022-11-27T00:52:09.699143Z"
    }
   },
   "outputs": [
    {
     "data": {
      "image/png": "[encoded data removed]",
      "text/plain": [
       "<Figure size 720x360 with 1 Axes>"
      ]
     },
     "metadata": {
      "needs_background": "light"
     },
     "output_type": "display_data"
    }
   ],
   "source": [
    "# group by school and get unique student id count\n",
    "grouped_school_df = pd.DataFrame(merged_df.groupby('school_name').student_id.nunique()).reset_index()\n",
    "\n",
    "# plot\n",
    "plt.figure(figsize=(10,5))\n",
    "ax_3 = sns.barplot(x='school_name',\n",
    "                   y='student_id',\n",
    "                   data=grouped_school_df,\n",
    "                   palette='icefire')\n",
    "sns.despine()\n",
    "ax_3.bar_label(ax_3.containers[0])\n",
    "\n",
    "plt.xlabel('')\n",
    "plt.ylabel('Student Count',\n",
    "           labelpad=10)\n",
    "\n",
    "plt.title('Student Enrollment by School',\n",
    "          weight='bold',\n",
    "          size=15,\n",
    "          loc='right')\n",
    "\n",
    "plt.show()"
   ]
  },
  {
   "cell_type": "markdown",
   "id": "2e15ede2",
   "metadata": {},
   "source": [
    "School E has the most students, but their completion rates are above the others.\n",
    "\n",
    "School D shows an opportunity for increasing completion rates, though they do show an increase in completion from Fall to Spring. \n",
    "\n",
    "School F has a decrease in completion from Fall to Spring, so that could be another opportunity to investigate."
   ]
  },
  {
   "cell_type": "markdown",
   "id": "42c76374",
   "metadata": {},
   "source": [
    "# Performance Analysis"
   ]
  },
  {
   "cell_type": "markdown",
   "id": "02ca781b",
   "metadata": {},
   "source": [
    "## Distribution of KIPP RIT Scores"
   ]
  },
  {
   "cell_type": "code",
   "execution_count": 46,
   "id": "29ae4b9b",
   "metadata": {
    "ExecuteTime": {
     "end_time": "2022-11-27T00:52:09.800779Z",
     "start_time": "2022-11-27T00:52:09.789031Z"
    }
   },
   "outputs": [],
   "source": [
    "# grab only numericals\n",
    "fall_math_num_df = fall_math_df.loc[~(fall_math_df.rit_score == '.')]\n",
    "fall_math_num_df['rit_score'] = fall_math_num_df['rit_score'].astype(int)\n",
    "\n",
    "fall_read_num_df = fall_read_df.loc[~(fall_read_df.rit_score == '.')]\n",
    "fall_read_num_df['rit_score'] = fall_read_num_df['rit_score'].astype(int)\n",
    "\n",
    "spring_math_num_df = spring_math_df.loc[~(spring_math_df.rit_score == '.')]\n",
    "spring_math_num_df['rit_score'] = spring_math_num_df['rit_score'].astype(int)\n",
    "\n",
    "spring_read_num_df = spring_read_df.loc[~(spring_read_df.rit_score == '.')]\n",
    "spring_read_num_df['rit_score'] = spring_read_num_df['rit_score'].astype(int)\n",
    "\n",
    "# create specifics dfs for plotting\n",
    "math_num_df = fall_math_num_df.append(spring_math_num_df)\n",
    "read_num_df = fall_read_num_df.append(spring_read_num_df)\n",
    "\n",
    "math_num_df.rename(columns={'map_term':'MAP Window'}, inplace=True)\n",
    "read_num_df.rename(columns={'map_term':'MAP Window'}, inplace=True)"
   ]
  },
  {
   "cell_type": "code",
   "execution_count": 47,
   "id": "0c5c4314",
   "metadata": {
    "ExecuteTime": {
     "end_time": "2022-11-27T00:52:09.934367Z",
     "start_time": "2022-11-27T00:52:09.801681Z"
    },
    "cell_style": "center"
   },
   "outputs": [
    {
     "data": {
      "image/png": "[encoded data removed]",
      "text/plain": [
       "<Figure size 720x360 with 1 Axes>"
      ]
     },
     "metadata": {
      "needs_background": "light"
     },
     "output_type": "display_data"
    }
   ],
   "source": [
    "# let's check out the math distributions\n",
    "plt.figure(figsize=(10,5))\n",
    "\n",
    "ax = sns.histplot(x='rit_score',\n",
    "                  data=math_num_df,\n",
    "                  hue='MAP Window',\n",
    "                  kde=True,\n",
    "                  element='step',\n",
    "                  palette='cubehelix')\n",
    "sns.despine()\n",
    "\n",
    "ax.axvline(fall_math_num_df.rit_score.median(),\n",
    "           color='#73A07D',\n",
    "           ls='--')\n",
    "ax.text(x=fall_math_num_df.rit_score.median()-31,\n",
    "        y=fall_math_num_df.rit_score.median()-10,\n",
    "        s=('Median = '+str(fall_math_num_df.rit_score.median())),\n",
    "        color='#73A07D',\n",
    "        weight='bold')\n",
    "\n",
    "ax.axvline(spring_math_num_df.rit_score.median(),\n",
    "           color='#DFACD4',\n",
    "           ls='--')\n",
    "ax.text(x=spring_math_num_df.rit_score.median()+3,\n",
    "        y=spring_math_num_df.rit_score.median()-10,\n",
    "        s=('Median = '+str(spring_math_num_df.rit_score.median())),\n",
    "        color='#DFACD4',\n",
    "        weight='bold')\n",
    "\n",
    "plt.xlabel('RIT Score',\n",
    "           labelpad=15)\n",
    "plt.ylabel('Count',\n",
    "           labelpad=15)\n",
    "plt.title('Distribution of Math MAP RIT Scores',\n",
    "          weight='bold',\n",
    "          size=15)\n",
    "\n",
    "plt.show()"
   ]
  },
  {
   "cell_type": "code",
   "execution_count": 48,
   "id": "8841b45f",
   "metadata": {
    "ExecuteTime": {
     "end_time": "2022-11-27T00:52:10.066763Z",
     "start_time": "2022-11-27T00:52:09.935533Z"
    }
   },
   "outputs": [
    {
     "data": {
      "image/png": "[encoded data removed]",
      "text/plain": [
       "<Figure size 720x360 with 1 Axes>"
      ]
     },
     "metadata": {
      "needs_background": "light"
     },
     "output_type": "display_data"
    }
   ],
   "source": [
    "# let's check out the reading distributions\n",
    "plt.figure(figsize=(10,5))\n",
    "\n",
    "ax = sns.histplot(x='rit_score',\n",
    "                  data=read_num_df,\n",
    "                  hue='MAP Window',\n",
    "                  kde=True,\n",
    "                  element='step',\n",
    "                  palette='cubehelix')\n",
    "sns.despine()\n",
    "\n",
    "ax.axvline(fall_read_num_df.rit_score.median(),\n",
    "           color='#73A07D',\n",
    "           ls='--')\n",
    "ax.text(x=fall_read_num_df.rit_score.median()-28,\n",
    "        y=fall_read_num_df.rit_score.median(),\n",
    "        s=('Median = '+str(fall_read_num_df.rit_score.median())),\n",
    "        color='#73A07D',\n",
    "        weight='bold')\n",
    "\n",
    "ax.axvline(spring_read_num_df.rit_score.median(),\n",
    "           color='#DFACD4',\n",
    "           ls='--')\n",
    "ax.text(x=spring_read_num_df.rit_score.median()+3,\n",
    "        y=spring_read_num_df.rit_score.median()+12,\n",
    "        s=('Median = '+str(spring_read_num_df.rit_score.median())),\n",
    "        color='#DFACD4',\n",
    "        weight='bold')\n",
    "\n",
    "plt.xlabel('RIT Score',\n",
    "           labelpad=15)\n",
    "plt.ylabel('Count',\n",
    "           labelpad=15)\n",
    "plt.title('Distribution of Reading MAP RIT Scores',\n",
    "          weight='bold',\n",
    "          size=15)\n",
    "\n",
    "plt.show()"
   ]
  },
  {
   "cell_type": "markdown",
   "id": "e0a26294",
   "metadata": {},
   "source": [
    "## Comparing to MAP Norms"
   ]
  },
  {
   "cell_type": "markdown",
   "id": "7e5883df",
   "metadata": {},
   "source": [
    "To compare KIPP MAP Scores to the national norms, we have to group by grade levels."
   ]
  },
  {
   "cell_type": "code",
   "execution_count": 49,
   "id": "931e92ff",
   "metadata": {
    "ExecuteTime": {
     "end_time": "2022-11-27T00:52:10.087297Z",
     "start_time": "2022-11-27T00:52:10.067787Z"
    },
    "scrolled": true
   },
   "outputs": [],
   "source": [
    "# create mean dfs by grade level for each map window and assessment\n",
    "# add a column with map national norms from their site\n",
    "\n",
    "# first math during the fall\n",
    "fall_math_by_grade_df = pd.DataFrame(fall_math_num_df.groupby('grade_level_2019').rit_score.mean().round(decimals=2)).reset_index()\n",
    "fall_math_by_grade_df.loc[fall_math_by_grade_df.grade_level_2019 == 0, 'grade_level_2019'] = 'K'\n",
    "fall_math_map_norms = [139.56, 160.05, 175.04, 188.48, 199.55,\n",
    "                       209.13, 214.75, 220.21, 224.92]\n",
    "fall_math_by_grade_df['MAP Norms'] = fall_math_map_norms\n",
    "fall_math_by_grade_df.columns = ['Grade Level',\n",
    "                                 'KIPP Mean',\n",
    "                                 'MAP Mean']\n",
    "\n",
    "# now math during spring\n",
    "spring_math_by_grade_df = pd.DataFrame(spring_math_num_df.groupby('grade_level_2019').rit_score.mean().round(decimals=2)).reset_index()\n",
    "spring_math_by_grade_df.loc[spring_math_by_grade_df.grade_level_2019 == 0, 'grade_level_2019'] = 'K'\n",
    "spring_math_map_norms = [157.11, 176.40, 189.42, 201.08, 210.51,\n",
    "                         218.75, 222.88, 226.73, 230.30]\n",
    "spring_math_by_grade_df['MAP Norms'] = spring_math_map_norms\n",
    "spring_math_by_grade_df.columns = ['Grade Level',\n",
    "                                   'KIPP Mean',\n",
    "                                   'MAP Mean']\n",
    "\n",
    "# now for reading\n",
    "fall_read_by_grade_df = pd.DataFrame(fall_read_num_df.groupby('grade_level_2019').rit_score.mean().round(decimals=2)).reset_index()\n",
    "fall_read_by_grade_df.loc[fall_read_by_grade_df.grade_level_2019 == 0, 'grade_level_2019'] = 'K'\n",
    "fall_read_map_norms = [136.65, 155.93, 172.35, 186.62, 196.67,\n",
    "                       204.48, 210.17, 214.20, 218.01]\n",
    "fall_read_by_grade_df['MAP Norms'] = fall_read_map_norms\n",
    "fall_read_by_grade_df.columns = ['Grade Level',\n",
    "                                 'KIPP Mean',\n",
    "                                 'MAP Mean']\n",
    "\n",
    "# now for reading in the spring\n",
    "spring_read_by_grade_df = pd.DataFrame(spring_read_num_df.groupby('grade_level_2019').rit_score.mean().round(decimals=2)).reset_index()\n",
    "spring_read_by_grade_df.loc[spring_read_by_grade_df.grade_level_2019 == 0, 'grade_level_2019'] = 'K'\n",
    "spring_read_map_norms = [153.09, 171.40, 185.57, 197.12, 204.83,\n",
    "                         210.98, 215.36, 218.36, 221.66]\n",
    "spring_read_by_grade_df['MAP Norms'] = spring_read_map_norms\n",
    "spring_read_by_grade_df.columns = ['Grade Level',\n",
    "                                   'KIPP Mean',\n",
    "                                   'MAP Mean']\n",
    "\n",
    "# melt\n",
    "fall_math_by_grade_df = fall_math_by_grade_df.melt(id_vars='Grade Level',\n",
    "                                                   var_name='Organization',\n",
    "                                                   value_name='Mean')\n",
    "\n",
    "spring_math_by_grade_df = spring_math_by_grade_df.melt(id_vars='Grade Level',\n",
    "                                                       var_name='Organization',\n",
    "                                                       value_name='Mean')\n",
    "\n",
    "fall_read_by_grade_df = fall_read_by_grade_df.melt(id_vars='Grade Level',\n",
    "                                                   var_name='Organization',\n",
    "                                                   value_name='Mean')\n",
    "\n",
    "spring_read_by_grade_df = spring_read_by_grade_df.melt(id_vars='Grade Level',\n",
    "                                                       var_name='Organization',\n",
    "                                                       value_name='Mean')\n",
    "\n"
   ]
  },
  {
   "cell_type": "code",
   "execution_count": 50,
   "id": "86be44ba",
   "metadata": {
    "ExecuteTime": {
     "end_time": "2022-11-27T00:52:10.285717Z",
     "start_time": "2022-11-27T00:52:10.088608Z"
    }
   },
   "outputs": [
    {
     "data": {
      "image/png": "[encoded data removed]",
      "text/plain": [
       "<Figure size 720x360 with 1 Axes>"
      ]
     },
     "metadata": {
      "needs_background": "light"
     },
     "output_type": "display_data"
    }
   ],
   "source": [
    "# time for some pretty charts\n",
    "plt.figure(figsize=(10,5))\n",
    "\n",
    "ax = sns.barplot(x='Grade Level',\n",
    "                 y='Mean',\n",
    "                 data=fall_math_by_grade_df,\n",
    "                 hue='Organization',\n",
    "                 palette='crest')\n",
    "sns.despine()\n",
    "\n",
    "ax.bar_label(ax.containers[0],\n",
    "             rotation=90,\n",
    "             padding=-40,\n",
    "             color='white',\n",
    "             weight='bold')\n",
    "\n",
    "ax.bar_label(ax.containers[1],\n",
    "             rotation=90,\n",
    "             padding=-40,\n",
    "             color='white')\n",
    "\n",
    "plt.ylabel('')\n",
    "plt.xlabel('Grade Level',\n",
    "           labelpad=15)\n",
    "\n",
    "plt.legend(title='')\n",
    "plt.title('Fall Math Means - KIPP vs. MAP 2020\\nby Grade Level',\n",
    "          weight='bold',\n",
    "          size=15,\n",
    "          loc='right')\n",
    "\n",
    "plt.show()"
   ]
  },
  {
   "cell_type": "code",
   "execution_count": 51,
   "id": "28cdba4d",
   "metadata": {
    "ExecuteTime": {
     "end_time": "2022-11-27T00:52:10.437439Z",
     "start_time": "2022-11-27T00:52:10.286600Z"
    }
   },
   "outputs": [
    {
     "data": {
      "image/png": "[encoded data removed]",
      "text/plain": [
       "<Figure size 720x360 with 1 Axes>"
      ]
     },
     "metadata": {
      "needs_background": "light"
     },
     "output_type": "display_data"
    }
   ],
   "source": [
    "plt.figure(figsize=(10,5))\n",
    "\n",
    "ax = sns.barplot(x='Grade Level',\n",
    "                 y='Mean',\n",
    "                 data=spring_math_by_grade_df,\n",
    "                 hue='Organization',\n",
    "                 palette='crest')\n",
    "sns.despine()\n",
    "\n",
    "ax.bar_label(ax.containers[0],\n",
    "             rotation=90,\n",
    "             padding=-40,\n",
    "             color='white',\n",
    "             weight='bold')\n",
    "\n",
    "ax.bar_label(ax.containers[1],\n",
    "             rotation=90,\n",
    "             padding=-40,\n",
    "             color='white')\n",
    "\n",
    "plt.ylabel('')\n",
    "plt.xlabel('Grade Level',\n",
    "           labelpad=15)\n",
    "\n",
    "plt.legend(title='')\n",
    "plt.title('Spring Math Means - KIPP vs. MAP 2020\\nby Grade Level',\n",
    "          weight='bold',\n",
    "          size=15,\n",
    "          loc='right')\n",
    "\n",
    "plt.show()"
   ]
  },
  {
   "cell_type": "code",
   "execution_count": 52,
   "id": "49e1c028",
   "metadata": {
    "ExecuteTime": {
     "end_time": "2022-11-27T00:52:10.590236Z",
     "start_time": "2022-11-27T00:52:10.438578Z"
    }
   },
   "outputs": [
    {
     "data": {
      "image/png": "[encoded data removed]",
      "text/plain": [
       "<Figure size 720x360 with 1 Axes>"
      ]
     },
     "metadata": {
      "needs_background": "light"
     },
     "output_type": "display_data"
    }
   ],
   "source": [
    "plt.figure(figsize=(10,5))\n",
    "\n",
    "ax = sns.barplot(x='Grade Level',\n",
    "                 y='Mean',\n",
    "                 data=fall_read_by_grade_df,\n",
    "                 hue='Organization',\n",
    "                 palette='rocket')\n",
    "sns.despine()\n",
    "\n",
    "ax.bar_label(ax.containers[0],\n",
    "             rotation=90,\n",
    "             padding=-40,\n",
    "             color='white',\n",
    "             weight='bold')\n",
    "\n",
    "ax.bar_label(ax.containers[1],\n",
    "             rotation=90,\n",
    "             padding=-40,\n",
    "             color='white')\n",
    "\n",
    "plt.ylabel('')\n",
    "plt.xlabel('Grade Level',\n",
    "           labelpad=15)\n",
    "\n",
    "plt.legend(title='')\n",
    "plt.title('Fall Reading Means - KIPP vs. MAP 2020\\nby Grade Level',\n",
    "          weight='bold',\n",
    "          size=15,\n",
    "          loc='right')\n",
    "\n",
    "plt.show()"
   ]
  },
  {
   "cell_type": "code",
   "execution_count": 53,
   "id": "2061c928",
   "metadata": {
    "ExecuteTime": {
     "end_time": "2022-11-27T00:52:10.746764Z",
     "start_time": "2022-11-27T00:52:10.591644Z"
    }
   },
   "outputs": [
    {
     "data": {
      "image/png": "[encoded data removed]",
      "text/plain": [
       "<Figure size 720x360 with 1 Axes>"
      ]
     },
     "metadata": {
      "needs_background": "light"
     },
     "output_type": "display_data"
    }
   ],
   "source": [
    "plt.figure(figsize=(10,5))\n",
    "\n",
    "ax = sns.barplot(x='Grade Level',\n",
    "                 y='Mean',\n",
    "                 data=spring_read_by_grade_df,\n",
    "                 hue='Organization',\n",
    "                 palette='rocket')\n",
    "sns.despine()\n",
    "\n",
    "ax.bar_label(ax.containers[0],\n",
    "             rotation=90,\n",
    "             padding=-40,\n",
    "             color='white',\n",
    "             weight='bold')\n",
    "\n",
    "ax.bar_label(ax.containers[1],\n",
    "             rotation=90,\n",
    "             padding=-40,\n",
    "             color='white')\n",
    "\n",
    "plt.ylabel('')\n",
    "plt.xlabel('Grade Level',\n",
    "           labelpad=15)\n",
    "\n",
    "plt.legend(title='')\n",
    "plt.title('Spring Reading Means - KIPP vs. MAP 2020\\nby Grade Level',\n",
    "          weight='bold',\n",
    "          size=15,\n",
    "          loc='right')\n",
    "\n",
    "plt.show()"
   ]
  },
  {
   "cell_type": "markdown",
   "id": "761300c5",
   "metadata": {},
   "source": [
    "## Growth Analysis"
   ]
  },
  {
   "cell_type": "markdown",
   "id": "3fabe0ba",
   "metadata": {},
   "source": [
    "Analyzing students' growth on the MAP assessments from Fall to Spring."
   ]
  },
  {
   "cell_type": "code",
   "execution_count": 54,
   "id": "9381fd97",
   "metadata": {
    "ExecuteTime": {
     "end_time": "2022-11-27T00:52:10.757704Z",
     "start_time": "2022-11-27T00:52:10.748156Z"
    }
   },
   "outputs": [
    {
     "data": {
      "text/html": [
       "<div>\n",
       "<style scoped>\n",
       "    .dataframe tbody tr th:only-of-type {\n",
       "        vertical-align: middle;\n",
       "    }\n",
       "\n",
       "    .dataframe tbody tr th {\n",
       "        vertical-align: top;\n",
       "    }\n",
       "\n",
       "    .dataframe thead th {\n",
       "        text-align: right;\n",
       "    }\n",
       "</style>\n",
       "<table border=\"1\" class=\"dataframe\">\n",
       "  <thead>\n",
       "    <tr style=\"text-align: right;\">\n",
       "      <th></th>\n",
       "      <th>student_id</th>\n",
       "      <th>school_name</th>\n",
       "      <th>grade_level_2019</th>\n",
       "      <th>year</th>\n",
       "      <th>map_term</th>\n",
       "      <th>subject</th>\n",
       "      <th>rit_score</th>\n",
       "      <th>percentile</th>\n",
       "      <th>quartile</th>\n",
       "      <th>typical_fall_to_spring_growth</th>\n",
       "      <th>program_name</th>\n",
       "    </tr>\n",
       "  </thead>\n",
       "  <tbody>\n",
       "    <tr>\n",
       "      <th>1</th>\n",
       "      <td>13898</td>\n",
       "      <td>School G</td>\n",
       "      <td>1</td>\n",
       "      <td>2019</td>\n",
       "      <td>Fall</td>\n",
       "      <td>Math</td>\n",
       "      <td>166</td>\n",
       "      <td>69</td>\n",
       "      <td>3</td>\n",
       "      <td>20</td>\n",
       "      <td>SPED</td>\n",
       "    </tr>\n",
       "    <tr>\n",
       "      <th>5</th>\n",
       "      <td>27795</td>\n",
       "      <td>School G</td>\n",
       "      <td>1</td>\n",
       "      <td>2019</td>\n",
       "      <td>Fall</td>\n",
       "      <td>Math</td>\n",
       "      <td>135</td>\n",
       "      <td>4</td>\n",
       "      <td>1</td>\n",
       "      <td>27</td>\n",
       "      <td>SPED</td>\n",
       "    </tr>\n",
       "    <tr>\n",
       "      <th>9</th>\n",
       "      <td>22938</td>\n",
       "      <td>School E</td>\n",
       "      <td>1</td>\n",
       "      <td>2019</td>\n",
       "      <td>Fall</td>\n",
       "      <td>Math</td>\n",
       "      <td>160</td>\n",
       "      <td>52</td>\n",
       "      <td>3</td>\n",
       "      <td>21</td>\n",
       "      <td>.</td>\n",
       "    </tr>\n",
       "    <tr>\n",
       "      <th>13</th>\n",
       "      <td>22431</td>\n",
       "      <td>School F</td>\n",
       "      <td>1</td>\n",
       "      <td>2019</td>\n",
       "      <td>Fall</td>\n",
       "      <td>Math</td>\n",
       "      <td>164</td>\n",
       "      <td>64</td>\n",
       "      <td>3</td>\n",
       "      <td>20</td>\n",
       "      <td>.</td>\n",
       "    </tr>\n",
       "    <tr>\n",
       "      <th>17</th>\n",
       "      <td>18048</td>\n",
       "      <td>School E</td>\n",
       "      <td>1</td>\n",
       "      <td>2019</td>\n",
       "      <td>Fall</td>\n",
       "      <td>Math</td>\n",
       "      <td>151</td>\n",
       "      <td>28</td>\n",
       "      <td>2</td>\n",
       "      <td>23</td>\n",
       "      <td>.</td>\n",
       "    </tr>\n",
       "    <tr>\n",
       "      <th>...</th>\n",
       "      <td>...</td>\n",
       "      <td>...</td>\n",
       "      <td>...</td>\n",
       "      <td>...</td>\n",
       "      <td>...</td>\n",
       "      <td>...</td>\n",
       "      <td>...</td>\n",
       "      <td>...</td>\n",
       "      <td>...</td>\n",
       "      <td>...</td>\n",
       "      <td>...</td>\n",
       "    </tr>\n",
       "    <tr>\n",
       "      <th>11106</th>\n",
       "      <td>13879</td>\n",
       "      <td>School D</td>\n",
       "      <td>6</td>\n",
       "      <td>2019</td>\n",
       "      <td>Fall</td>\n",
       "      <td>Math</td>\n",
       "      <td>229</td>\n",
       "      <td>68</td>\n",
       "      <td>3</td>\n",
       "      <td>4</td>\n",
       "      <td>.</td>\n",
       "    </tr>\n",
       "    <tr>\n",
       "      <th>11108</th>\n",
       "      <td>28744</td>\n",
       "      <td>School D</td>\n",
       "      <td>7</td>\n",
       "      <td>2019</td>\n",
       "      <td>Fall</td>\n",
       "      <td>Math</td>\n",
       "      <td>214</td>\n",
       "      <td>25</td>\n",
       "      <td>2</td>\n",
       "      <td>6</td>\n",
       "      <td>.</td>\n",
       "    </tr>\n",
       "    <tr>\n",
       "      <th>11110</th>\n",
       "      <td>12169</td>\n",
       "      <td>School A</td>\n",
       "      <td>7</td>\n",
       "      <td>2019</td>\n",
       "      <td>Fall</td>\n",
       "      <td>Math</td>\n",
       "      <td>220</td>\n",
       "      <td>37</td>\n",
       "      <td>2</td>\n",
       "      <td>5</td>\n",
       "      <td>.</td>\n",
       "    </tr>\n",
       "    <tr>\n",
       "      <th>11114</th>\n",
       "      <td>27656</td>\n",
       "      <td>School D</td>\n",
       "      <td>8</td>\n",
       "      <td>2019</td>\n",
       "      <td>Fall</td>\n",
       "      <td>Math</td>\n",
       "      <td>199</td>\n",
       "      <td>5</td>\n",
       "      <td>1</td>\n",
       "      <td>6</td>\n",
       "      <td>.</td>\n",
       "    </tr>\n",
       "    <tr>\n",
       "      <th>11116</th>\n",
       "      <td>29777</td>\n",
       "      <td>School E</td>\n",
       "      <td>0</td>\n",
       "      <td>2019</td>\n",
       "      <td>Fall</td>\n",
       "      <td>Math</td>\n",
       "      <td>133</td>\n",
       "      <td>32</td>\n",
       "      <td>2</td>\n",
       "      <td>21</td>\n",
       "      <td>.</td>\n",
       "    </tr>\n",
       "  </tbody>\n",
       "</table>\n",
       "<p>2528 rows × 11 columns</p>\n",
       "</div>"
      ],
      "text/plain": [
       "       student_id school_name  grade_level_2019  year map_term subject  \\\n",
       "1           13898    School G                 1  2019     Fall    Math   \n",
       "5           27795    School G                 1  2019     Fall    Math   \n",
       "9           22938    School E                 1  2019     Fall    Math   \n",
       "13          22431    School F                 1  2019     Fall    Math   \n",
       "17          18048    School E                 1  2019     Fall    Math   \n",
       "...           ...         ...               ...   ...      ...     ...   \n",
       "11106       13879    School D                 6  2019     Fall    Math   \n",
       "11108       28744    School D                 7  2019     Fall    Math   \n",
       "11110       12169    School A                 7  2019     Fall    Math   \n",
       "11114       27656    School D                 8  2019     Fall    Math   \n",
       "11116       29777    School E                 0  2019     Fall    Math   \n",
       "\n",
       "       rit_score percentile quartile typical_fall_to_spring_growth  \\\n",
       "1            166         69        3                            20   \n",
       "5            135          4        1                            27   \n",
       "9            160         52        3                            21   \n",
       "13           164         64        3                            20   \n",
       "17           151         28        2                            23   \n",
       "...          ...        ...      ...                           ...   \n",
       "11106        229         68        3                             4   \n",
       "11108        214         25        2                             6   \n",
       "11110        220         37        2                             5   \n",
       "11114        199          5        1                             6   \n",
       "11116        133         32        2                            21   \n",
       "\n",
       "      program_name  \n",
       "1             SPED  \n",
       "5             SPED  \n",
       "9                .  \n",
       "13               .  \n",
       "17               .  \n",
       "...            ...  \n",
       "11106            .  \n",
       "11108            .  \n",
       "11110            .  \n",
       "11114            .  \n",
       "11116            .  \n",
       "\n",
       "[2528 rows x 11 columns]"
      ]
     },
     "execution_count": 54,
     "metadata": {},
     "output_type": "execute_result"
    }
   ],
   "source": [
    "fall_math_num_df"
   ]
  },
  {
   "cell_type": "code",
   "execution_count": 55,
   "id": "9a590938",
   "metadata": {
    "ExecuteTime": {
     "end_time": "2022-11-27T00:52:10.771778Z",
     "start_time": "2022-11-27T00:52:10.759326Z"
    }
   },
   "outputs": [],
   "source": [
    "# need to create a variable showing growth\n",
    "# the difference between their fall and spring rit score\n",
    "selected_fall_math_df = fall_math_num_df[['student_id', 'school_name', 'rit_score', 'grade_level_2019', 'program_name']]\n",
    "selected_fall_math_df.columns = ['Student ID', 'School Name', 'Fall RIT', 'Grade Level', 'Program']\n",
    "selected_spring_math_df = spring_math_num_df[['student_id', 'rit_score']]\n",
    "selected_spring_math_df.columns = ['Student ID', 'Spring RIT']\n",
    "merged_math_rit_df = selected_fall_math_df.merge(selected_spring_math_df, how='inner')\n",
    "\n",
    "merged_math_rit_df['KIPP Mean Growth'] = merged_math_rit_df['Spring RIT'] - merged_math_rit_df['Fall RIT']\n",
    "\n",
    "# now for reading\n",
    "selected_fall_read_df = fall_read_num_df[['student_id', 'school_name', 'rit_score', 'grade_level_2019', 'program_name']]\n",
    "selected_fall_read_df.columns = ['Student ID', 'School Name', 'Fall RIT', 'Grade Level', 'Program']\n",
    "selected_spring_read_df = spring_read_num_df[['student_id', 'rit_score']]\n",
    "selected_spring_read_df.columns = ['Student ID', 'Spring RIT']\n",
    "merged_read_rit_df = selected_fall_read_df.merge(selected_spring_read_df, how='inner')\n",
    "\n",
    "merged_read_rit_df['KIPP Mean Growth'] = merged_read_rit_df['Spring RIT'] - merged_read_rit_df['Fall RIT']"
   ]
  },
  {
   "cell_type": "code",
   "execution_count": 56,
   "id": "348e21f2",
   "metadata": {
    "ExecuteTime": {
     "end_time": "2022-11-27T00:52:10.786615Z",
     "start_time": "2022-11-27T00:52:10.783850Z"
    }
   },
   "outputs": [
    {
     "data": {
      "text/plain": [
       "2271"
      ]
     },
     "execution_count": 56,
     "metadata": {},
     "output_type": "execute_result"
    }
   ],
   "source": [
    "merged_math_rit_df.shape[0]"
   ]
  },
  {
   "cell_type": "code",
   "execution_count": 57,
   "id": "243770c5",
   "metadata": {
    "ExecuteTime": {
     "end_time": "2022-11-27T00:52:10.795825Z",
     "start_time": "2022-11-27T00:52:10.787651Z"
    }
   },
   "outputs": [
    {
     "data": {
      "text/plain": [
       "2290"
      ]
     },
     "execution_count": 57,
     "metadata": {},
     "output_type": "execute_result"
    }
   ],
   "source": [
    "merged_read_rit_df.shape[0]"
   ]
  },
  {
   "cell_type": "code",
   "execution_count": 58,
   "id": "6366a7a1",
   "metadata": {
    "ExecuteTime": {
     "end_time": "2022-11-27T00:52:10.804082Z",
     "start_time": "2022-11-27T00:52:10.796780Z"
    }
   },
   "outputs": [],
   "source": [
    "# get mean of growth by grade level\n",
    "math_mean_growth_by_grade_df = pd.DataFrame(merged_math_rit_df.groupby(['Grade Level'])['KIPP Mean Growth'].mean().round(decimals=2)).reset_index()\n",
    "read_mean_growth_by_grade_df = pd.DataFrame(merged_read_rit_df.groupby(['Grade Level'])['KIPP Mean Growth'].mean().round(decimals=2)).reset_index()\n",
    "\n",
    "# add the map growth norms\n",
    "math_mean_growth_by_grade_df['MAP Growth Norm'] = [17.54, 16.35, 14.38,\n",
    "                                                   12.60, 10.96, 9.61,\n",
    "                                                   8.13, 6.52, 5.38]\n",
    "\n",
    "read_mean_growth_by_grade_df['MAP Growth Norm'] = [16.45, 15.47, 13.22,\n",
    "                                                   10.50, 8.16, 6.50,\n",
    "                                                   5.19, 4.16, 3.65]"
   ]
  },
  {
   "cell_type": "code",
   "execution_count": 59,
   "id": "c6a9e5c4",
   "metadata": {
    "ExecuteTime": {
     "end_time": "2022-11-27T00:52:10.810793Z",
     "start_time": "2022-11-27T00:52:10.804988Z"
    }
   },
   "outputs": [],
   "source": [
    "# melt dfs for graphing\n",
    "melted_math_df = math_mean_growth_by_grade_df.melt(id_vars='Grade Level',\n",
    "                                                   var_name='Organization',\n",
    "                                                   value_name='Mean Growth')\n",
    "\n",
    "melted_read_df = read_mean_growth_by_grade_df.melt(id_vars='Grade Level',\n",
    "                                                   var_name='Organization',\n",
    "                                                   value_name='Mean Growth')"
   ]
  },
  {
   "cell_type": "code",
   "execution_count": 60,
   "id": "6419137e",
   "metadata": {
    "ExecuteTime": {
     "end_time": "2022-11-27T00:52:10.969408Z",
     "start_time": "2022-11-27T00:52:10.811935Z"
    }
   },
   "outputs": [
    {
     "data": {
      "image/png": "[encoded data removed]",
      "text/plain": [
       "<Figure size 720x360 with 1 Axes>"
      ]
     },
     "metadata": {
      "needs_background": "light"
     },
     "output_type": "display_data"
    }
   ],
   "source": [
    "\n",
    "plt.figure(figsize=(10,5))\n",
    "\n",
    "ax_1 = sns.barplot(x='Grade Level',\n",
    "                   y='Mean Growth',\n",
    "                   data=melted_math_df,\n",
    "                   hue='Organization',\n",
    "                   palette='crest',\n",
    "                   edgecolor='black')\n",
    "sns.despine()\n",
    "ax_1.bar_label(ax_1.containers[0],\n",
    "               rotation=45,\n",
    "               color='black',\n",
    "               weight='bold',\n",
    "               padding=5)\n",
    "ax_1.bar_label(ax_1.containers[1],\n",
    "               rotation=45,\n",
    "               color='black',\n",
    "               padding=5)\n",
    "\n",
    "plt.legend(title='')\n",
    "\n",
    "plt.title('Fall to Spring Math Mean Growth\\nby Grade Level',\n",
    "          weight='bold',\n",
    "          size=15,\n",
    "          loc='right')\n",
    "\n",
    "plt.show()"
   ]
  },
  {
   "cell_type": "code",
   "execution_count": 61,
   "id": "e2d25128",
   "metadata": {
    "ExecuteTime": {
     "end_time": "2022-11-27T00:52:11.126440Z",
     "start_time": "2022-11-27T00:52:10.970477Z"
    }
   },
   "outputs": [
    {
     "data": {
      "image/png": "[encoded data removed]",
      "text/plain": [
       "<Figure size 720x360 with 1 Axes>"
      ]
     },
     "metadata": {
      "needs_background": "light"
     },
     "output_type": "display_data"
    }
   ],
   "source": [
    "\n",
    "plt.figure(figsize=(10,5))\n",
    "\n",
    "ax_1 = sns.barplot(x='Grade Level',\n",
    "                   y='Mean Growth',\n",
    "                   data=melted_read_df,\n",
    "                   hue='Organization',\n",
    "                   palette='rocket',\n",
    "                   edgecolor='black')\n",
    "sns.despine()\n",
    "ax_1.bar_label(ax_1.containers[0],\n",
    "               rotation=45,\n",
    "               color='black',\n",
    "               padding=5,\n",
    "               weight='bold')\n",
    "ax_1.bar_label(ax_1.containers[1],\n",
    "               rotation=45,\n",
    "               color='black',\n",
    "               padding=5)\n",
    "\n",
    "plt.legend(title='')\n",
    "\n",
    "plt.title('Fall to Spring Reading Mean Growth\\nby Grade Level',\n",
    "          weight='bold',\n",
    "          size=15,\n",
    "          loc='right')\n",
    "\n",
    "plt.show()"
   ]
  },
  {
   "cell_type": "markdown",
   "id": "48451f21",
   "metadata": {},
   "source": [
    "## Growth by Program"
   ]
  },
  {
   "cell_type": "code",
   "execution_count": 62,
   "id": "58a32d6e",
   "metadata": {
    "ExecuteTime": {
     "end_time": "2022-11-27T00:52:11.132566Z",
     "start_time": "2022-11-27T00:52:11.127604Z"
    }
   },
   "outputs": [],
   "source": [
    "# get mean of growth by grade level\n",
    "math_mean_growth_by_program_df = pd.DataFrame(merged_math_rit_df.groupby(['Program'])['KIPP Mean Growth'].mean().round(decimals=2)).reset_index()\n",
    "read_mean_growth_by_program_df = pd.DataFrame(merged_read_rit_df.groupby(['Program'])['KIPP Mean Growth'].mean().round(decimals=2)).reset_index()"
   ]
  },
  {
   "cell_type": "code",
   "execution_count": 63,
   "id": "4a67b09a",
   "metadata": {
    "ExecuteTime": {
     "end_time": "2022-11-27T00:52:11.147137Z",
     "start_time": "2022-11-27T00:52:11.133617Z"
    }
   },
   "outputs": [],
   "source": [
    "# melt dfs for graphing\n",
    "melted_math_df = math_mean_growth_by_program_df.melt(id_vars='Program',\n",
    "                                                   var_name='Organization',\n",
    "                                                   value_name='Mean Growth')\n",
    "\n",
    "melted_read_df = read_mean_growth_by_program_df.melt(id_vars='Program',\n",
    "                                                   var_name='Organization',\n",
    "                                                   value_name='Mean Growth')"
   ]
  },
  {
   "cell_type": "code",
   "execution_count": 64,
   "id": "3ffc2de8",
   "metadata": {
    "ExecuteTime": {
     "end_time": "2022-11-27T00:52:11.151601Z",
     "start_time": "2022-11-27T00:52:11.148303Z"
    }
   },
   "outputs": [],
   "source": [
    "# adjust dot value for no program\n",
    "melted_math_df.loc[melted_math_df.Program == '.', 'Program'] = 'No Program'\n",
    "melted_read_df.loc[melted_read_df.Program == '.', 'Program'] = 'No Program'"
   ]
  },
  {
   "cell_type": "code",
   "execution_count": 65,
   "id": "653a78fb",
   "metadata": {
    "ExecuteTime": {
     "end_time": "2022-11-27T00:52:11.235014Z",
     "start_time": "2022-11-27T00:52:11.152991Z"
    }
   },
   "outputs": [
    {
     "data": {
      "image/png": "[encoded data removed]",
      "text/plain": [
       "<Figure size 720x360 with 1 Axes>"
      ]
     },
     "metadata": {
      "needs_background": "light"
     },
     "output_type": "display_data"
    }
   ],
   "source": [
    "\n",
    "plt.figure(figsize=(10,5))\n",
    "\n",
    "ax_1 = sns.barplot(x='Program',\n",
    "                   y='Mean Growth',\n",
    "                   data=melted_math_df,\n",
    "                   palette='crest',\n",
    "                   edgecolor='black')\n",
    "sns.despine()\n",
    "ax_1.bar_label(ax_1.containers[0],\n",
    "               rotation=0,\n",
    "               color='black',\n",
    "               weight='bold',\n",
    "               padding=5)\n",
    "\n",
    "plt.title('Fall to Spring Math Mean Growth\\nby Program',\n",
    "          weight='bold',\n",
    "          size=15,\n",
    "          loc='right')\n",
    "\n",
    "plt.show()"
   ]
  },
  {
   "cell_type": "code",
   "execution_count": 66,
   "id": "7e9bda9c",
   "metadata": {
    "ExecuteTime": {
     "end_time": "2022-11-27T00:52:11.317268Z",
     "start_time": "2022-11-27T00:52:11.236280Z"
    }
   },
   "outputs": [
    {
     "data": {
      "image/png": "[encoded data removed]",
      "text/plain": [
       "<Figure size 720x360 with 1 Axes>"
      ]
     },
     "metadata": {
      "needs_background": "light"
     },
     "output_type": "display_data"
    }
   ],
   "source": [
    "\n",
    "plt.figure(figsize=(10,5))\n",
    "\n",
    "ax_1 = sns.barplot(x='Program',\n",
    "                   y='Mean Growth',\n",
    "                   data=melted_read_df,\n",
    "                   palette='rocket',\n",
    "                   edgecolor='black')\n",
    "sns.despine()\n",
    "ax_1.bar_label(ax_1.containers[0],\n",
    "               rotation=0,\n",
    "               color='black',\n",
    "               weight='bold',\n",
    "               padding=5)\n",
    "\n",
    "plt.title('Fall to Spring Reading Mean Growth\\nby Program',\n",
    "          weight='bold',\n",
    "          size=15,\n",
    "          loc='right')\n",
    "\n",
    "plt.show()"
   ]
  },
  {
   "cell_type": "code",
   "execution_count": null,
   "id": "c201a141",
   "metadata": {},
   "outputs": [],
   "source": []
  }
 ],
 "metadata": {
  "hide_input": false,
  "kernelspec": {
   "display_name": "Python 3 (ipykernel)",
   "language": "python",
   "name": "python3"
  },
  "language_info": {
   "codemirror_mode": {
    "name": "ipython",
    "version": 3
   },
   "file_extension": ".py",
   "mimetype": "text/x-python",
   "name": "python",
   "nbconvert_exporter": "python",
   "pygments_lexer": "ipython3",
   "version": "3.9.7"
  },
  "toc": {
   "base_numbering": 1,
   "nav_menu": {},
   "number_sections": true,
   "sideBar": true,
   "skip_h1_title": false,
   "title_cell": "Table of Contents",
   "title_sidebar": "Contents",
   "toc_cell": false,
   "toc_position": {},
   "toc_section_display": true,
   "toc_window_display": true
  },
  "varInspector": {
   "cols": {
    "lenName": 16,
    "lenType": 16,
    "lenVar": 40
   },
   "kernels_config": {
    "python": {
     "delete_cmd_postfix": "",
     "delete_cmd_prefix": "del ",
     "library": "var_list.py",
     "varRefreshCmd": "print(var_dic_list())"
    },
    "r": {
     "delete_cmd_postfix": ") ",
     "delete_cmd_prefix": "rm(",
     "library": "var_list.r",
     "varRefreshCmd": "cat(var_dic_list()) "
    }
   },
   "types_to_exclude": [
    "module",
    "function",
    "builtin_function_or_method",
    "instance",
    "_Feature"
   ],
   "window_display": false
  }
 },
 "nbformat": 4,
 "nbformat_minor": 5
}
